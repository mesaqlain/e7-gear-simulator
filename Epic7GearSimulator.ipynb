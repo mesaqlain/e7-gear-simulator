{
 "cells": [
  {
   "cell_type": "markdown",
   "id": "92104323-fd47-4855-b84d-576337f9846b",
   "metadata": {},
   "source": [
    "# Epic Seven Gear Simulator\n",
    "\n",
    "This is an ongoing project to create an app in python that will simulate the generation of items (better known as gear in the community), same as those found in the mobile game Epic Seven. This particular notebook is used for writing the test functions before moving them to their respective modules."
   ]
  },
  {
   "cell_type": "code",
   "execution_count": null,
   "id": "275ac222-0e76-4df5-9037-148fb0f2051d",
   "metadata": {
    "tags": []
   },
   "outputs": [],
   "source": [
    "import json\n",
    "import random\n",
    "import importlib\n",
    "\n",
    "import sys\n",
    "sys.path.append(\"./data\")\n",
    "sys.path.append(\"./tests\")\n",
    "sys.path.append(\"./src\")\n",
    "\n",
    "import src.stats as st\n",
    "import src.gear as gr\n",
    "from src.validation_utils import *\n",
    "from src.utilities import *\n",
    "#from tests.test_class_gear_v1 import Gear\n",
    "\n",
    "# importlib.import_module('src.validation_utils')\n",
    "# importlib.import_module('src.stats')\n",
    "# importlib.import_module('tests.test_functions')"
   ]
  },
  {
   "cell_type": "code",
   "execution_count": null,
   "id": "aa384926-767d-4905-8d19-10d9381167b4",
   "metadata": {
    "tags": []
   },
   "outputs": [],
   "source": [
    "importlib.reload(gr)\n",
    "importlib.reload(st)"
   ]
  },
  {
   "cell_type": "code",
   "execution_count": null,
   "id": "c68042dc-f6bf-4396-a2c3-4b8499b966c7",
   "metadata": {
    "tags": []
   },
   "outputs": [],
   "source": [
    "# Import Data\n",
    "import json\n",
    "\n",
    "with open('data/types.json', 'r') as types_file:\n",
    "    TYPES = json.load(types_file)\n",
    "with open('data/sets.json', 'r') as sets_file:\n",
    "    SETS = json.load(sets_file)\n",
    "with open('data/tiers.json', 'r') as tiers_file:\n",
    "    TIERS = json.load(tiers_file)\n",
    "with open('data/grades.json', 'r') as grades_file:\n",
    "    GRADES = json.load(grades_file)\n",
    "with open('data/stats.json', 'r') as stats_file:\n",
    "    STATS = json.load(stats_file)"
   ]
  }
 ],
 "metadata": {
  "kernelspec": {
   "display_name": "Python 3 (ipykernel)",
   "language": "python",
   "name": "python3"
  },
  "language_info": {
   "codemirror_mode": {
    "name": "ipython",
    "version": 3
   },
   "file_extension": ".py",
   "mimetype": "text/x-python",
   "name": "python",
   "nbconvert_exporter": "python",
   "pygments_lexer": "ipython3",
   "version": "3.11.4"
  }
 },
 "nbformat": 4,
 "nbformat_minor": 5
}
