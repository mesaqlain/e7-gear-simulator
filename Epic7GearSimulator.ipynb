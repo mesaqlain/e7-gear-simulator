{
 "cells": [
  {
   "cell_type": "markdown",
   "id": "92104323-fd47-4855-b84d-576337f9846b",
   "metadata": {},
   "source": [
    "# Epic Seven Gear Simulator\n",
    "\n",
    "This is an ongoing project to create an app in python that will simulate the generation of items (better known as gear in the community), same as those found in the mobile game Epic Seven. This particular notebook is used for writing the test functions before moving them to their respective modules."
   ]
  },
  {
   "cell_type": "code",
   "execution_count": null,
   "id": "275ac222-0e76-4df5-9037-148fb0f2051d",
   "metadata": {
    "tags": []
   },
   "outputs": [],
   "source": [
    "import json\n",
    "import random\n",
    "import importlib\n",
    "\n",
    "import sys\n",
    "sys.path.append(\"./data\")\n",
    "sys.path.append(\"./tests\")\n",
    "sys.path.append(\"./src\")\n",
    "\n",
    "from src.validation_utils import *\n",
    "from src.utilities import *\n",
    "import src.stats as st\n",
    "import src.gear as gr\n",
    "#from tests.test_class_gear_v1 import Gear\n",
    "\n",
    "# importlib.import_module('src.validation_utils')\n",
    "# importlib.import_module('src.stats')\n",
    "# importlib.import_module('tests.test_functions')"
   ]
  },
  {
   "cell_type": "code",
   "execution_count": null,
   "id": "aa384926-767d-4905-8d19-10d9381167b4",
   "metadata": {
    "tags": []
   },
   "outputs": [],
   "source": [
    "importlib.reload(gr)\n",
    "importlib.reload(st)"
   ]
  },
  {
   "cell_type": "code",
   "execution_count": null,
   "id": "c68042dc-f6bf-4396-a2c3-4b8499b966c7",
   "metadata": {
    "tags": []
   },
   "outputs": [],
   "source": [
    "# Import Data\n",
    "import json\n",
    "\n",
    "with open('data/types.json', 'r') as types_file:\n",
    "    TYPES = json.load(types_file)\n",
    "with open('data/sets.json', 'r') as sets_file:\n",
    "    SETS = json.load(sets_file)\n",
    "with open('data/tiers.json', 'r') as tiers_file:\n",
    "    TIERS = json.load(tiers_file)\n",
    "with open('data/grades.json', 'r') as grades_file:\n",
    "    GRADES = json.load(grades_file)\n",
    "with open('data/stats.json', 'r') as stats_file:\n",
    "    STATS = json.load(stats_file)"
   ]
  },
  {
   "cell_type": "code",
   "execution_count": null,
   "id": "6af5b18a-2bb5-422e-ba4f-ae8e0da8141e",
   "metadata": {
    "tags": []
   },
   "outputs": [],
   "source": [
    "def reforge_stat(parsed_stat, stat_type='substat'):\n",
    "    if stat_type == 'substat':\n",
    "        reforged_value = parsed_stat['values'][0][1] + \\\n",
    "            parsed_stat['reforge_increase']\n",
    "    else:\n",
    "        reforged_value = parsed_stat['reforge_increase']\n",
    "    return reforged_value"
   ]
  },
  {
   "cell_type": "code",
   "execution_count": null,
   "id": "8a52f8a4-72a2-4847-8484-4d1fe10deff4",
   "metadata": {
    "tags": []
   },
   "outputs": [],
   "source": [
    "def reforge_item(item):\n",
    "\n",
    "    if item['is_reforged']:\n",
    "        print(\"Cannot reforge item that has already been reforged.\")\n",
    "        return item\n",
    "\n",
    "    if item['level'] != 85:\n",
    "        print(\"Cannot reforge item that is not iLvl 85.\")\n",
    "        return item\n",
    "\n",
    "    if item['enhance'] < 15:\n",
    "        print(\"Cannot reforge item if it has not been enhanced to +15.\")\n",
    "        return item\n",
    "\n",
    "    else:\n",
    "\n",
    "        # Set main stat to reforged stat\n",
    "        item['mainstat'][0]['values'][0][1] = item['mainstat'][0]['reforge_increase']\n",
    "\n",
    "        # Set each substats to reforged value\n",
    "        for s in item['substats']:  # iterate through each substat\n",
    "            s['values'][0][1] = reforge_stat(s)\n",
    "\n",
    "        # Set reforged status to True\n",
    "        item['is_reforged'] = True\n",
    "\n",
    "        # Change item_level to 90\n",
    "        item['level'] = 90\n",
    "\n",
    "        # Print confirmation:\n",
    "        print(\"Item has been reforged!\")\n",
    "\n",
    "    return item"
   ]
  },
  {
   "cell_type": "code",
   "execution_count": null,
   "id": "c94455ab-0b27-4d51-8c50-3d8611ed937a",
   "metadata": {},
   "outputs": [],
   "source": [
    "# This item modifies a particular stat in the item, stat number is the\n",
    "# index number of the stat to be modified\n",
    "\n",
    "def modify_item(item, stat_index=None, mod_stat_id=None,\n",
    "                mod_type='greater', verbose=False):\n",
    "\n",
    "    # Check if item is fully enhanced:\n",
    "    if item['enhance'] != 15:\n",
    "        print(\"Cannot modify item unless it has been fully enhanced to +15.\")\n",
    "        return item\n",
    "\n",
    "    if (stat_index is not None) and (isinstance(\n",
    "            stat_index, (str, int))) and (0 < stat_index < 5):\n",
    "        # Get correct indexing for our code (start from 0)\n",
    "        stat_index = int(stat_index) - 1\n",
    "    else:\n",
    "        print(\"Please provide a valid integer value between 1 and 4 for the stat index.\")\n",
    "        return item\n",
    "\n",
    "    # Check if any of the other substats have been modified (they will have 'modded' = True)\n",
    "    # If so, we cannot proceed with modification, as modification is only\n",
    "    # allowed on the substat where we've applied one mod\n",
    "    if any(substat.get('modded', False)\n",
    "           for i, substat in enumerate(item['substats']) if i != stat_index):\n",
    "        print(\"Cannot modify substat when another substat has been modded.\")\n",
    "        return item\n",
    "\n",
    "    # Check if correct stat_index has been provided:\n",
    "    if (mod_stat_id is not None) and (isinstance(mod_stat_id, (int, str))) and (\n",
    "            0 <= int(mod_stat_id) <= len(STATS) - 1):\n",
    "        # Get correct indexing for our code (start from 0)\n",
    "        mod_stat_id = str(mod_stat_id)\n",
    "    else:\n",
    "        print(\"Please provide an integer value between 0 and 10 for mod_stat_id.\")\n",
    "        return item\n",
    "\n",
    "    # Check for correct mod_type (it can either be 'greater' or 'lesser')\n",
    "    if mod_type is not None and mod_type not in ['greater', 'lesser']:\n",
    "        print(\"Invalid mod_type provided. Defaulting to Greater Gem.\")\n",
    "        mod_type = 'greater'\n",
    "\n",
    "    # Get item type and get allowed subs\n",
    "    type_ = item['type']\n",
    "    allowed_subs = convert_int_to_string(TYPES[type_]['substat'])\n",
    "\n",
    "    # Check if the mod stat is applicable in the pool\n",
    "    if mod_stat_id not in allowed_subs:\n",
    "        print(\"This substat cannot be added to this item type\")\n",
    "        return item\n",
    "    else:\n",
    "        # Check if the mod stat already exists on the item.\n",
    "        current_stats = item['substats'] + item['mainstat']\n",
    "\n",
    "        if any(str(stat['id']) == mod_stat_id for i,\n",
    "               stat in enumerate(current_stats) if i != stat_index):\n",
    "            print(\"Cannot add a substat that already exists on the item!\")\n",
    "            return item\n",
    "        else:\n",
    "            # Get the count of how many times this substat has rolled or use 0\n",
    "            # if it doesn't exist\n",
    "            roll_count = item['substats'][stat_index].get('rolled', 0)\n",
    "            # Get a new stat based on provided id\n",
    "            new_stat = get_stat_by_id(mod_stat_id)\n",
    "            modified_stat = parse_stat(\n",
    "                new_stat,\n",
    "                'substat',\n",
    "                item['grade'],\n",
    "                item['level'],\n",
    "                mod=True,\n",
    "                rolled=roll_count,\n",
    "                mod_type=mod_type)  # Parse the stat based on modded values\n",
    "\n",
    "            # Replace the substat with the new modded stat\n",
    "            item['substats'][stat_index] = modified_stat\n",
    "            # Print confirmation\n",
    "            print(\"Item has been modded with a new substat!\")\n",
    "\n",
    "    return item"
   ]
  }
 ],
 "metadata": {
  "kernelspec": {
   "display_name": "Python 3 (ipykernel)",
   "language": "python",
   "name": "python3"
  },
  "language_info": {
   "codemirror_mode": {
    "name": "ipython",
    "version": 3
   },
   "file_extension": ".py",
   "mimetype": "text/x-python",
   "name": "python",
   "nbconvert_exporter": "python",
   "pygments_lexer": "ipython3",
   "version": "3.11.4"
  }
 },
 "nbformat": 4,
 "nbformat_minor": 5
}
