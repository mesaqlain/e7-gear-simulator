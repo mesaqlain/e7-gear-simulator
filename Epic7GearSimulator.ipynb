{
 "cells": [
  {
   "cell_type": "markdown",
   "id": "92104323-fd47-4855-b84d-576337f9846b",
   "metadata": {},
   "source": [
    "# Epic Seven Gear Simulator\n",
    "\n",
    "This is an ongoing project to create an app in python that will simulate the generation of items (better known as gear in the community), same as those found in the mobile game Epic Seven. This notebook shows some examples of how to create gear with this package. Please check the [README.md](https://github.com/mesaqlain/e7-gear-simulator/blob/main/README.md) file for more details."
   ]
  },
  {
   "cell_type": "markdown",
   "id": "0a453b55-01bb-4262-8d5c-f7c32e37d43b",
   "metadata": {},
   "source": [
    "## Import"
   ]
  },
  {
   "cell_type": "code",
   "execution_count": null,
   "id": "275ac222-0e76-4df5-9037-148fb0f2051d",
   "metadata": {
    "tags": []
   },
   "outputs": [],
   "source": [
    "from src.gear import Gear\n",
    "import random # For setting seed"
   ]
  },
  {
   "cell_type": "markdown",
   "id": "9e4cc8cd-a63c-46f2-871b-b2463aa1ded0",
   "metadata": {},
   "source": [
    "## CREATE A RANDOM GEAR"
   ]
  },
  {
   "cell_type": "markdown",
   "id": "2bacd86d-daef-45af-82f7-d6043f77ecbd",
   "metadata": {},
   "source": [
    "### Create Gear"
   ]
  },
  {
   "cell_type": "code",
   "execution_count": null,
   "id": "8d899b48-dd6e-4f40-b65c-67ee021a059d",
   "metadata": {
    "tags": []
   },
   "outputs": [],
   "source": [
    "# Instantiate empty Gear object\n",
    "gear = Gear()\n",
    "# Create a completely random gear by not providing any parameters inside .create_gear()\n",
    "gear.create_gear().print_gear()"
   ]
  },
  {
   "cell_type": "markdown",
   "id": "89b5534c-e28b-4e41-9453-19036cd11bc9",
   "metadata": {},
   "source": [
    "### Enhance Gear"
   ]
  },
  {
   "cell_type": "code",
   "execution_count": null,
   "id": "9c0eee94-a19c-456d-8ce0-8aa47327286c",
   "metadata": {
    "tags": []
   },
   "outputs": [],
   "source": [
    "# Enhance a gear, you can run this cell up to 15 times\n",
    "gear.enhance_gear().print_gear()"
   ]
  },
  {
   "cell_type": "markdown",
   "id": "650b40a5-42bd-409d-bb34-e4807ab72b69",
   "metadata": {
    "tags": []
   },
   "source": [
    "### Modify Gear\n",
    "modify_gear() takes in 3 arguments - stat_index, mod_stat_id, and mod_type.\n",
    "* **stat_index** is a number from 1 to 4, indicating which substat on the gear you want to replace.\n",
    "* **mod_stat_id** is the index of the stat you want to replace with (details on which id refers to which stat in section 5.1).\n",
    "* **mod_type** is 'greater' by default. Another option is 'lesser'."
   ]
  },
  {
   "cell_type": "code",
   "execution_count": null,
   "id": "956414b2-5719-4862-a219-058ce2c64ac3",
   "metadata": {
    "tags": []
   },
   "outputs": [],
   "source": [
    "gear.modify_gear(4, 1).print_gear()"
   ]
  },
  {
   "cell_type": "markdown",
   "id": "122c50ad-6156-42ed-9e4d-adb6b0e148b5",
   "metadata": {},
   "source": [
    "### Reforge Gear"
   ]
  },
  {
   "cell_type": "code",
   "execution_count": null,
   "id": "382ab26d-4151-455b-9347-7b63e2cbc5f4",
   "metadata": {
    "tags": []
   },
   "outputs": [],
   "source": [
    "gear.reforge_gear().print_gear()"
   ]
  },
  {
   "cell_type": "markdown",
   "id": "215692fe-dd5d-49b0-ab20-82fe9e179cbf",
   "metadata": {},
   "source": [
    "## CREATE A SPECIFIC GEAR\n",
    "Here are some examples of creating specific gear."
   ]
  },
  {
   "cell_type": "markdown",
   "id": "8da67b8a-f429-4345-93d2-4c20458ae827",
   "metadata": {},
   "source": [
    "### Example 1 - Create Gear\n",
    "Create an Epic Lv 85 Ring, with Effectiveness as mainstat, and Speed, Health %, and Defense % as substats (4th substat is chosen randomly following gear restrictions)."
   ]
  },
  {
   "cell_type": "code",
   "execution_count": null,
   "id": "617b9f77-e75c-4d71-8aae-122c80daa32b",
   "metadata": {
    "tags": []
   },
   "outputs": [],
   "source": [
    "gear = Gear()\n",
    "gear.create_gear(\n",
    "    gear_grade='epic',\n",
    "    gear_type='ring',\n",
    "    mainstat_id=8,\n",
    "    substat_ids=[\n",
    "        10,\n",
    "        3,\n",
    "        5]).print_gear()"
   ]
  },
  {
   "cell_type": "markdown",
   "id": "ddf8045b-d0d0-412b-a3ac-0e156c4ea8e4",
   "metadata": {},
   "source": [
    "### Example 1 - Enhance Gear\n",
    "Enhance to max level"
   ]
  },
  {
   "cell_type": "code",
   "execution_count": null,
   "id": "e997582a-27a4-4379-9e60-8885a4f1dc82",
   "metadata": {
    "tags": []
   },
   "outputs": [],
   "source": [
    "gear.enhance_gear_max().print_gear()"
   ]
  },
  {
   "cell_type": "markdown",
   "id": "48eda85c-56c0-4a37-81a6-67993d72ed4f",
   "metadata": {},
   "source": [
    "### Example 1 - Reforge Gear"
   ]
  },
  {
   "cell_type": "code",
   "execution_count": null,
   "id": "7d034b41-8769-4e60-b63d-ed620accae74",
   "metadata": {
    "tags": []
   },
   "outputs": [],
   "source": [
    "gear.reforge_gear().print_gear()"
   ]
  },
  {
   "cell_type": "markdown",
   "id": "3b9836a8-a9d9-4dd1-b2fc-cd912409aa51",
   "metadata": {},
   "source": [
    "### Example 2 - Create Gear\n",
    "Create an Epic, Lv 85, Penetration Set, Necklace, with Crit Damage as mainstat (no substat_ids provided so they will be completely random). Keep running the cell until you find stats you are happy with."
   ]
  },
  {
   "cell_type": "code",
   "execution_count": null,
   "id": "0e221275-c2a6-4e53-a802-278951fd54ec",
   "metadata": {
    "tags": []
   },
   "outputs": [],
   "source": [
    "random.seed(42) # To replicate result\n",
    "gear = Gear()\n",
    "gear.create_gear(\n",
    "    gear_grade='epic',\n",
    "    gear_type='necklace',\n",
    "    mainstat_id=7).print_gear()"
   ]
  },
  {
   "cell_type": "markdown",
   "id": "befce321-5a3f-415d-b3b0-fe8bf981f48b",
   "metadata": {},
   "source": [
    "### Example 2 - Enhance Gear\n",
    "Enhance the gear to max, or, if you'd rather do it incrementally, use .enhance_gear() 15 times."
   ]
  },
  {
   "cell_type": "code",
   "execution_count": null,
   "id": "62ad1684-1520-4dbd-9fd1-adb7ff65c7d3",
   "metadata": {
    "tags": []
   },
   "outputs": [],
   "source": [
    "gear.enhance_gear_max().print_gear()"
   ]
  },
  {
   "cell_type": "markdown",
   "id": "9abe267d-db59-4794-b4de-f3aec222c942",
   "metadata": {},
   "source": [
    "### Example 2 - Modify Gear\n",
    "That flat attack looks sus, let's replace that with modification. We want CRIT CHANCE instead, which is stat_id = 6 (check README file section 5.1 for more details on stat_ids). The index of the flat attack is 1 (1st substat), so let's modify it. Let's let the method use 'greater' mod gem by default, so no need to specify. If you're not happy with the roll you got, run the cell again to retry your luck and get a better luck on the modification."
   ]
  },
  {
   "cell_type": "code",
   "execution_count": null,
   "id": "64af6512-6634-4a0d-b8ed-38da13c2ab70",
   "metadata": {
    "tags": []
   },
   "outputs": [],
   "source": [
    "gear.modify_gear(stat_index=1, mod_stat_id=6).print_gear()"
   ]
  },
  {
   "cell_type": "markdown",
   "id": "ba4157fa-411f-4024-8566-15d2d98cbcd6",
   "metadata": {},
   "source": [
    "Notice that once we've modifed the flat attack, that's the only stat we'll be able to modify any further (that stat will now show (modded)); the other substats are now locked in place. Also, you're able to choose another substat to replace with, if you choose, like this:"
   ]
  },
  {
   "cell_type": "code",
   "execution_count": null,
   "id": "9a58255f-a5e0-453b-95cb-9653140517aa",
   "metadata": {
    "tags": []
   },
   "outputs": [],
   "source": [
    "# Let's replace that stat with speed instead\n",
    "gear.modify_gear(stat_index=1, mod_stat_id=10).print_gear()"
   ]
  },
  {
   "cell_type": "code",
   "execution_count": null,
   "id": "432efe59-3003-4355-8e78-5bffdd0350ba",
   "metadata": {
    "tags": []
   },
   "outputs": [],
   "source": [
    "# This code will not work as this gear already has a modded stat on index 1.\n",
    "gear.modify_gear(stat_index=4, mod_stat_id=6).print_gear()"
   ]
  },
  {
   "cell_type": "markdown",
   "id": "579eff5e-7696-4136-9c39-a4aef2d6a6f5",
   "metadata": {},
   "source": [
    "### Example 2 - Reforge Gear"
   ]
  },
  {
   "cell_type": "code",
   "execution_count": null,
   "id": "20506b5e-8af6-4dd7-aeef-d5a35b9edd51",
   "metadata": {
    "tags": []
   },
   "outputs": [],
   "source": [
    "gear.reforge_gear().print_gear()"
   ]
  },
  {
   "cell_type": "markdown",
   "id": "1ea931cc-6183-41fb-aa06-e422efd1c19b",
   "metadata": {},
   "source": [
    "Note that you can keep modifying that first substat as many times as you want, even after reforge."
   ]
  },
  {
   "cell_type": "code",
   "execution_count": null,
   "id": "82be5356-3fa3-4885-b9c6-75bbc73bcb9c",
   "metadata": {
    "tags": []
   },
   "outputs": [],
   "source": [
    "gear.modify_gear(1, 6).print_gear()"
   ]
  },
  {
   "cell_type": "markdown",
   "id": "35fda779-eca1-4688-b4bc-9effcd6e0840",
   "metadata": {},
   "source": [
    "## MODIFY SPECIFIC STATS\n",
    "This section is only if you want to get in depth into customizing a gear for testing and debugging purposes."
   ]
  },
  {
   "cell_type": "markdown",
   "id": "96434f46-1a89-4e17-8f20-cef61bf35854",
   "metadata": {},
   "source": [
    "### Create Gear"
   ]
  },
  {
   "cell_type": "code",
   "execution_count": null,
   "id": "7af6a27a-3293-4a51-b38b-249bd95f6499",
   "metadata": {
    "tags": []
   },
   "outputs": [],
   "source": [
    "random.seed(42) # To replicate result\n",
    "gear = Gear()\n",
    "gear.create_gear(\n",
    "    gear_grade='epic',\n",
    "    gear_type='necklace',\n",
    "    mainstat_id=7).print_gear()"
   ]
  },
  {
   "cell_type": "markdown",
   "id": "15e45aa9-39da-4cdf-a65d-64a4201c62d2",
   "metadata": {},
   "source": [
    "### Manually Replace:\n",
    "Use the .get_stat() method as:\n",
    "```gear.get_stat(stat_id=None, stat_type='mainstat', gear_type=None, gear_grade=None, gear_level=85, mod=False, rolled=None, mod_type='greater', show_reforged=False)```\n",
    "\n",
    "With the last four arguments you can specify whether the stat has been modded, what type of mod to use, how many times the stat has rolled when enhancing, and whether to show the reforged values when printing the gear."
   ]
  },
  {
   "cell_type": "code",
   "execution_count": null,
   "id": "7bb12bb0-507c-4cd1-bb1b-327bdf70111a",
   "metadata": {
    "tags": []
   },
   "outputs": [],
   "source": [
    "gear.substats[0] = gear.get_stat(7, gear.substats[0].stat_type, gear.gear_type, gear.gear_grade, gear.gear_level)"
   ]
  },
  {
   "cell_type": "code",
   "execution_count": null,
   "id": "9a4648ef-87ce-43b9-a337-1820836b1621",
   "metadata": {
    "tags": []
   },
   "outputs": [],
   "source": [
    "gear.print_gear()"
   ]
  },
  {
   "cell_type": "markdown",
   "id": "c2752840-4724-44e0-8e42-b2417ef89e46",
   "metadata": {},
   "source": [
    "Notice that we've replaced the 1st stat (Flat ATK) with Crit Damage. We can further modify the stats as we wish as:"
   ]
  },
  {
   "cell_type": "code",
   "execution_count": null,
   "id": "dde95d74-c98c-4b34-9a29-e5997e59943c",
   "metadata": {
    "tags": []
   },
   "outputs": [],
   "source": [
    "gear.substats[0].value = 7 # Set the value to 7\n",
    "gear.print_gear()"
   ]
  },
  {
   "cell_type": "markdown",
   "id": "88441b9c-78c7-4989-be56-e5f6f4cabc7e",
   "metadata": {},
   "source": [
    "Take a look at the [stats.py](https://github.com/mesaqlain/e7-gear-simulator/edit/main/src/stats.py) to see what else you can modify as you wish!"
   ]
  }
 ],
 "metadata": {
  "kernelspec": {
   "display_name": "Python 3 (ipykernel)",
   "language": "python",
   "name": "python3"
  },
  "language_info": {
   "codemirror_mode": {
    "name": "ipython",
    "version": 3
   },
   "file_extension": ".py",
   "mimetype": "text/x-python",
   "name": "python",
   "nbconvert_exporter": "python",
   "pygments_lexer": "ipython3",
   "version": "3.11.4"
  }
 },
 "nbformat": 4,
 "nbformat_minor": 5
}
