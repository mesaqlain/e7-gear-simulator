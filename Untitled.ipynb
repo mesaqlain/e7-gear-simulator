{
 "cells": [
  {
   "cell_type": "code",
   "execution_count": 2,
   "id": "a5fe223c-7d9b-400c-af4f-16e281f8713f",
   "metadata": {
    "tags": []
   },
   "outputs": [],
   "source": [
    "import src.validation_utils as vu\n",
    "import importlib"
   ]
  },
  {
   "cell_type": "code",
   "execution_count": 3,
   "id": "7906f629-d3e3-4942-a606-2f72223797ca",
   "metadata": {
    "tags": []
   },
   "outputs": [
    {
     "data": {
      "text/plain": [
       "<module 'src.validation_utils' from 'C:\\\\Users\\\\Ireni\\\\PycharmProjects\\\\e7_items\\\\src\\\\validation_utils.py'>"
      ]
     },
     "execution_count": 3,
     "metadata": {},
     "output_type": "execute_result"
    }
   ],
   "source": []
  }
 ],
 "metadata": {
  "kernelspec": {
   "display_name": "Python 3 (ipykernel)",
   "language": "python",
   "name": "python3"
  },
  "language_info": {
   "codemirror_mode": {
    "name": "ipython",
    "version": 3
   },
   "file_extension": ".py",
   "mimetype": "text/x-python",
   "name": "python",
   "nbconvert_exporter": "python",
   "pygments_lexer": "ipython3",
   "version": "3.11.4"
  }
 },
 "nbformat": 4,
 "nbformat_minor": 5
}
