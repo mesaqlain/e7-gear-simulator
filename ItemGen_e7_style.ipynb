{
 "cells": [
  {
   "cell_type": "code",
   "execution_count": 1,
   "id": "275ac222-0e76-4df5-9037-148fb0f2051d",
   "metadata": {
    "tags": []
   },
   "outputs": [],
   "source": [
    "import json\n",
    "import random"
   ]
  },
  {
   "cell_type": "code",
   "execution_count": null,
   "id": "71f455dc-55fb-41e8-bc23-d06c27338498",
   "metadata": {},
   "outputs": [],
   "source": [
    "# References:\n",
    "# https://epic7x.com/equipment-tutorial/\n",
    "# https://page.onstove.com/epicseven/global/view/7902683"
   ]
  },
  {
   "cell_type": "code",
   "execution_count": 128,
   "id": "6b8fd52b-f493-4b80-a986-92a906b6faf6",
   "metadata": {
    "tags": []
   },
   "outputs": [],
   "source": [
    "# Equipment types\n",
    "# main_stats: The main stats allowed on this equipment type\n",
    "# sub_stats: The sub stats allowed on this equipment type\n",
    "\n",
    "TYPES = {\n",
    "    'Dagger': {\n",
    "        'MainStats' : [0],\n",
    "        'SubStats' : [1000, 1001, 1004, 1005, 1006]\n",
    "    },\n",
    "    'Ring': {\n",
    "        'MainStats' : [0, 1],\n",
    "        'SubStats' : [1000, 1001, 1002, 1003, 1004, 1005, 1006]\n",
    "    }\n",
    "}"
   ]
  },
  {
   "cell_type": "code",
   "execution_count": 1543,
   "id": "7d0f4e64-7750-4bef-9228-0843639e3b45",
   "metadata": {
    "tags": []
   },
   "outputs": [],
   "source": [
    "# Equipment Grades: White (Normal), Green (Good), Blue (Rare), Purple (Heroic), Red (Epic)\n",
    "\n",
    "GRADES = {\n",
    "    'Normal': {\n",
    "        'starting_substats' : 0,\n",
    "        'max_substats' : 4,\n",
    "        'weight' : 0.05\n",
    "    },\n",
    "    'Good': {\n",
    "        'starting_substats' : 1,\n",
    "        'max_substats' : 4,\n",
    "        'weight' : 0.1\n",
    "    },\n",
    "    'Rare': {\n",
    "        'starting_substats' : 2,\n",
    "        'max_substats' : 4,\n",
    "        'weight' : 0.4\n",
    "    },\n",
    "    'Heroic': {\n",
    "        'starting_substats' : 3,\n",
    "        'max_substats' : 4,\n",
    "        'weight' : 0.35\n",
    "    },\n",
    "    'Epic': {\n",
    "        'starting_substats' : 4,\n",
    "        'max_substats' : 4,\n",
    "        'weight' : 0.1\n",
    "    }\n",
    "}"
   ]
  },
  {
   "cell_type": "code",
   "execution_count": 130,
   "id": "8179f4ef-828a-4962-b320-9579425140ed",
   "metadata": {
    "tags": []
   },
   "outputs": [],
   "source": [
    "# Health – Gives +15% health (2 pieces)\n",
    "# Defense – Gives +15% defense (2 pieces)\n",
    "# Attack – Gives +35% attack (4 pieces)\n",
    "# Speed – Gives 25% speed (4 pieces)\n",
    "# Critical – Gives +12% critical rate (2 pieces)\n",
    "# Hit Rate – Gives +20% effectiveness(2 pieces)\n",
    "# Destruction – Gives +40% critical damage (4 pieces)\n",
    "# Lifesteal – Gives +20% lifesteal of the damage dealt to enemies (4 pieces)\n",
    "# Counter – Gives +20 chance to counter attack when attacked. (4 pieces)\n",
    "# Resist – Gives +20% effect resistance(2 pieces)\n",
    "# Unity – Gives +4% chance to trigger dual attack (2 pieces)\n",
    "# Rage – Gives +30% damage when the enemy is debuffed (4 pieces)\n",
    "# Immunity – Gives 1 turn immunity buff at the start of each battle phase (2 pieces)\n",
    "\n",
    "SETS = {\n",
    "    'Health': {\n",
    "        'text' : 'Health – Gives +15% health (2 pieces)', # Text description of set \n",
    "        'items_req' : 2, # Number of items req to activate set\n",
    "        'key_stat' : 'health_percent', # Stat that the set boosts\n",
    "        'value' : 15 # Value by which the stat is boosted\n",
    "    },\n",
    "    'Defense': {\n",
    "        'text' : 'Defense – Gives +15% defense (2 pieces)',\n",
    "        'items_req' : 2, \n",
    "        'key_stat' : 'def_percent',\n",
    "        'value' : 15\n",
    "    },\n",
    "    'Speed': {\n",
    "        'text': 'Speed – Gives 25% speed (4 pieces)',\n",
    "        'items_req': 4,\n",
    "        'key_stat': 'speed_percent',\n",
    "        'value': 25\n",
    "    }\n",
    "}"
   ]
  },
  {
   "cell_type": "code",
   "execution_count": 812,
   "id": "24d6d91b-ae9b-4f47-85ac-e5b941f7715b",
   "metadata": {
    "tags": []
   },
   "outputs": [],
   "source": [
    "# Simplified: Main Stats and Sub Stats\n",
    "# id: uniqu id for sta\n",
    "# text: text description of the stat\n",
    "# key_stat: the actual stat that the stat modified\n",
    "# vars: # key: This goes in text, # type: fixed or random, # values : 3 values for the 3 different tiers (for now assume 3 different tiers of items)\n",
    "\n",
    "STATS = {\n",
    "    'MainStats': {\n",
    "        '0' : {\n",
    "            'id' : 0,\n",
    "            'text': '<A>% Atack',\n",
    "            'key_stat' : 'attack_percent',\n",
    "            'vars' : [{'key': '<A>', 'type' : 'fixed', 'values' : [10, 11, 12]}],\n",
    "            'upgrade_vals': [5, 5, 6, 6, 16]\n",
    "        },\n",
    "        '1' : {\n",
    "            'id' : 1,\n",
    "            'text': '<A> Atack',\n",
    "            'key_stat' : 'attack_flat',\n",
    "            'vars' : [{'key': '<A>', 'type' : 'fixed', 'values' : [50, 55, 60]}],\n",
    "            'upgrade_vals': [10, 10, 20, 20, 50]\n",
    "        }\n",
    "    },\n",
    "    'SubStats': {\n",
    "        '1000' : {\n",
    "            'id' : 1000,\n",
    "            'text': '<A>% Atack',\n",
    "            'key_stat' : 'attack_percent',\n",
    "            'vars' : [{'key': '<A>', 'type' : 'rand', 'values' : [[1, 3], [2, 4], [3, 5]]}]\n",
    "        },\n",
    "        '1001' : {\n",
    "            'id' : 1001,\n",
    "            'text': '<A> Atack',\n",
    "            'key_stat' : 'attack_flat',\n",
    "            'vars' : [{'key': '<A>', 'type' : 'rand', 'values' : [[10, 15], [13, 18], [15, 20]]}]\n",
    "        },\n",
    "        '1002' : {\n",
    "            'id' : 1002,\n",
    "            'text': '<A>% Defense',\n",
    "            'key_stat' : 'defense_percent',\n",
    "            'vars' : [{'key': '<A>', 'type' : 'rand', 'values' : [[1, 3], [2, 4], [3, 5]]}]\n",
    "        },\n",
    "        '1003' : {\n",
    "            'id' : 1003,\n",
    "            'text': '<A> Defense',\n",
    "            'key_stat' : 'defense_flat',\n",
    "            'vars' : [{'key': '<A>', 'type' : 'rand', 'values' : [[10, 15], [13, 18], [15, 20]]}]\n",
    "        },\n",
    "        '1004' : {\n",
    "            'id' : 1004,\n",
    "            'text': '<A> Speed',\n",
    "            'key_stat' : 'speed_flat',\n",
    "            'vars' : [{'key': '<A>', 'type' : 'rand', 'values' : [[1, 3], [1, 4], [2, 5]]}]\n",
    "        },\n",
    "        '1005' : {\n",
    "            'id' : 1005,\n",
    "            'text': '<A>% Crit Rate Chance',\n",
    "            'key_stat' : 'crit_rate',\n",
    "            'vars' : [{'key': '<A>', 'type' : 'rand', 'values' : [[1, 3], [2, 4], [3, 6]]}]\n",
    "        },\n",
    "        '1006' : {\n",
    "            'id' : 1006,\n",
    "            'text': '<A>% Crit Damage',\n",
    "            'key_stat' : 'crit_damage',\n",
    "            'vars' : [{'key': '<A>', 'type' : 'rand', 'values' : [[10, 13], [12, 14], [13, 16]]}]\n",
    "        }\n",
    "    }\n",
    "}"
   ]
  },
  {
   "cell_type": "code",
   "execution_count": 132,
   "id": "64c06721-6a70-45ec-bdb8-8dbd0efc9e28",
   "metadata": {
    "tags": []
   },
   "outputs": [],
   "source": [
    "# Item Tiers, if item is Lv 1-10 it is Tier 1, if it is Lv 11-20 it is Tier 2, if it is Lv 21-30 it is Tier 3\n",
    "\n",
    "TIERS = {\n",
    "    'Tier 1': {\n",
    "        'item_tier' : 1,\n",
    "        'level_range' : range (1,11)\n",
    "    },\n",
    "    'Tier 2': {\n",
    "        'item_tier' : 2,\n",
    "        'level_range' : range (11,21)\n",
    "    },\n",
    "    'Tier 3': {\n",
    "        'item_tier' : 3,\n",
    "        'level_range' : range(21,31)\n",
    "    }\n",
    "}"
   ]
  },
  {
   "cell_type": "code",
   "execution_count": 542,
   "id": "c9cf3307-475a-44f3-a212-e5e9f7515464",
   "metadata": {
    "tags": []
   },
   "outputs": [
    {
     "data": {
      "text/plain": [
       "False"
      ]
     },
     "execution_count": 542,
     "metadata": {},
     "output_type": "execute_result"
    }
   ],
   "source": []
  },
  {
   "cell_type": "code",
   "execution_count": 9,
   "id": "422d8f64-24d7-4305-91cd-0e3ff61b5a3d",
   "metadata": {
    "tags": []
   },
   "outputs": [
    {
     "data": {
      "text/plain": [
       "(['Dagger', 'Ring'],\n",
       " ['Normal', 'Uncommon', 'Rare', 'Heroic', 'Epic'],\n",
       " ['Health', 'Defense', 'Speed'],\n",
       " ['MainStats', 'SubStats'],\n",
       " ['Tier 1', 'Tier 2', 'Tier 3'])"
      ]
     },
     "execution_count": 9,
     "metadata": {},
     "output_type": "execute_result"
    }
   ],
   "source": [
    "# Check what we have so far:\n",
    "list(TYPES), list(GRADES), list(SETS), list(STATS), list(TIERS)"
   ]
  },
  {
   "cell_type": "code",
   "execution_count": 10,
   "id": "660b806d-e66d-443c-865a-e898dc11df8d",
   "metadata": {
    "tags": []
   },
   "outputs": [],
   "source": [
    "# Get a stat by particular id:\n",
    "\n",
    "def get_stat_by_id(id):\n",
    "\n",
    "\tstr_id = str(id) # Convert the provided ID to a string\n",
    "\tfor s in STATS: # Iterate through the 'Main_Stats', 'Sub_Stats', etc. sections\n",
    "\t\tif str_id in STATS[s]: # # Check if the provided ID exists in the current section\n",
    "\t\t\treturn STATS[s][str_id] # Return the stat dictionary associated with the ID\n",
    "\treturn None # Return None if the provided ID doesn't match any stat"
   ]
  },
  {
   "cell_type": "code",
   "execution_count": 11,
   "id": "6e62bf4c-ce42-4a22-9b99-ef86875a4b93",
   "metadata": {
    "tags": []
   },
   "outputs": [
    {
     "data": {
      "text/plain": [
       "{'id': 1001,\n",
       " 'text': '<A> Atack',\n",
       " 'key_stat': 'attack_flat',\n",
       " 'vars': [{'key': '<A>',\n",
       "   'type': 'rand',\n",
       "   'values': [[10, 15], [13, 18], [15, 20]]}]}"
      ]
     },
     "execution_count": 11,
     "metadata": {},
     "output_type": "execute_result"
    }
   ],
   "source": [
    "get_stat_by_id(1001)"
   ]
  },
  {
   "cell_type": "code",
   "execution_count": 115,
   "id": "608f702c-ba7f-4559-bf8f-92efbc979404",
   "metadata": {
    "tags": []
   },
   "outputs": [
    {
     "data": {
      "text/plain": [
       "['0', '1']"
      ]
     },
     "execution_count": 115,
     "metadata": {},
     "output_type": "execute_result"
    }
   ],
   "source": [
    "list(set([]) | set(STATS['MainStats']))"
   ]
  },
  {
   "cell_type": "code",
   "execution_count": 139,
   "id": "2a6af2c3-6292-4285-a395-94d8be7bc6e1",
   "metadata": {
    "tags": []
   },
   "outputs": [
    {
     "data": {
      "text/plain": [
       "[1000, 1001, 1004, 1005, 1006]"
      ]
     },
     "execution_count": 139,
     "metadata": {},
     "output_type": "execute_result"
    }
   ],
   "source": [
    "TYPES['Dagger']['SubStats']"
   ]
  },
  {
   "cell_type": "code",
   "execution_count": 255,
   "id": "ee7f9d55-e17a-4cc7-b906-dd32ee93af21",
   "metadata": {
    "tags": []
   },
   "outputs": [],
   "source": [
    "def get_random_stat(stat_type = 'MainStats', item_type = None):\n",
    "\n",
    "    pool = [] # Initialize an empty list to store available IDs\n",
    "    \n",
    "    # If the provided stat_type is valid and exists in STATS\n",
    "    if stat_type in STATS:\n",
    "        # If no item type provided, pick any stat from list of main stats or substats\n",
    "        if item_type is None:\n",
    "            # Use set union to merge the available IDs into the pool list\n",
    "            pool = list(set(STATS[stat_type]))\n",
    "        else:\n",
    "            pool = list(set(TYPES[item_type][stat_type])) # Get the pool of id's possible for this item_type\n",
    "        \n",
    "    # If the pool is empty, no stats are available, so return None\n",
    "    if pool == []:\n",
    "        return None\n",
    "\n",
    "    # Choose a random ID from the pool and fetch the associated stat\n",
    "    return get_stat_by_id(id = random.choice(pool))"
   ]
  },
  {
   "cell_type": "code",
   "execution_count": 352,
   "id": "33ceb543-7237-4748-ba08-ffef396c20a0",
   "metadata": {
    "tags": []
   },
   "outputs": [
    {
     "data": {
      "text/plain": [
       "{'id': 1000,\n",
       " 'text': '<A>% Atack',\n",
       " 'key_stat': 'attack_percent',\n",
       " 'vars': [{'key': '<A>', 'type': 'rand', 'values': [[1, 3], [2, 4], [3, 5]]}]}"
      ]
     },
     "execution_count": 352,
     "metadata": {},
     "output_type": "execute_result"
    }
   ],
   "source": [
    "get_random_stat('SubStats', 'Dagger')"
   ]
  },
  {
   "cell_type": "code",
   "execution_count": 353,
   "id": "41c46a64-e5ea-4fc2-a112-ccd8766f97fb",
   "metadata": {
    "tags": []
   },
   "outputs": [],
   "source": [
    "# This function gets a stat that hasn't already been selected\n",
    "def get_non_overlapping_stat(selected = [], stat_type = 'MainStats', item_type = None):\n",
    "\n",
    "\tstat = get_random_stat(stat_type, item_type) # Get a random stat\n",
    "\n",
    "    # If the stat we got in the previous line exists in our selected stats, get a new random stat\n",
    "\twhile any(stat['id'] == a['id'] for a in selected): \n",
    "\t\tstat = get_random_stat(stat_type, item_type) # Get a random stat\n",
    " \n",
    "\treturn stat"
   ]
  },
  {
   "cell_type": "code",
   "execution_count": 440,
   "id": "31052df3-8b9b-4066-b65c-6793295bb9ef",
   "metadata": {
    "tags": []
   },
   "outputs": [
    {
     "data": {
      "text/plain": [
       "{'id': 0,\n",
       " 'text': '<A>% Atack',\n",
       " 'key_stat': 'attack_percent',\n",
       " 'vars': [{'key': '<A>', 'type': 'fixed', 'values': [10, 11, 12]}]}"
      ]
     },
     "execution_count": 440,
     "metadata": {},
     "output_type": "execute_result"
    }
   ],
   "source": [
    "# Get a random stat for an item\n",
    "stat1 = get_random_stat('MainStats', 'Ring')\n",
    "stat1"
   ]
  },
  {
   "cell_type": "code",
   "execution_count": 421,
   "id": "c99454e1-8e9d-4ef3-8775-25280b7139cb",
   "metadata": {
    "tags": []
   },
   "outputs": [
    {
     "data": {
      "text/plain": [
       "{'id': 1001,\n",
       " 'text': '<A> Atack',\n",
       " 'key_stat': 'attack_flat',\n",
       " 'vars': [{'key': '<A>',\n",
       "   'type': 'rand',\n",
       "   'values': [[10, 15], [13, 18], [15, 20]]}]}"
      ]
     },
     "execution_count": 421,
     "metadata": {},
     "output_type": "execute_result"
    }
   ],
   "source": [
    "# Get a non overlapping stat (i.e. pick anything except for stat1)\n",
    "get_non_overlapping_stat([stat1], 'SubStats', 'Dagger')"
   ]
  },
  {
   "cell_type": "code",
   "execution_count": 17,
   "id": "ba2bdc6a-54ca-4a9e-bd1c-5952dd3c878e",
   "metadata": {
    "tags": []
   },
   "outputs": [
    {
     "data": {
      "text/plain": [
       "[{'key': '<A>', 'type': 'rand', 'values': [[1, 3], [2, 4], [3, 5]]}]"
      ]
     },
     "execution_count": 17,
     "metadata": {},
     "output_type": "execute_result"
    }
   ],
   "source": [
    "stat1['vars']"
   ]
  },
  {
   "cell_type": "code",
   "execution_count": 18,
   "id": "ed8ad065-2dc8-416f-ab03-7af9bd3556fa",
   "metadata": {
    "tags": []
   },
   "outputs": [
    {
     "name": "stdout",
     "output_type": "stream",
     "text": [
      "{'key': '<A>', 'type': 'rand', 'values': [[1, 3], [2, 4], [3, 5]]}\n"
     ]
    }
   ],
   "source": [
    "for var in stat1['vars']:\n",
    "    print(var)"
   ]
  },
  {
   "cell_type": "code",
   "execution_count": 19,
   "id": "a2cb86b5-2c2d-44e9-b86f-d10119579b8e",
   "metadata": {
    "tags": []
   },
   "outputs": [
    {
     "data": {
      "text/plain": [
       "[3, 5]"
      ]
     },
     "execution_count": 19,
     "metadata": {},
     "output_type": "execute_result"
    }
   ],
   "source": [
    "stat1['vars'][0]['values'][2]"
   ]
  },
  {
   "cell_type": "code",
   "execution_count": 20,
   "id": "8563d662-c789-4f8d-856a-98b5c8645e2c",
   "metadata": {
    "tags": []
   },
   "outputs": [
    {
     "data": {
      "text/plain": [
       "{'id': 1002,\n",
       " 'text': '<A>% Defense',\n",
       " 'key_stat': 'defense_percent',\n",
       " 'vars': [{'key': '<A>', 'type': 'rand', 'values': [[1, 3], [2, 4], [3, 5]]}]}"
      ]
     },
     "execution_count": 20,
     "metadata": {},
     "output_type": "execute_result"
    }
   ],
   "source": [
    "stat1"
   ]
  },
  {
   "cell_type": "code",
   "execution_count": 21,
   "id": "073aec43-ee9e-4d71-aecf-cd2831395fd8",
   "metadata": {
    "tags": []
   },
   "outputs": [],
   "source": [
    "def parse_stat(stat, tier = None):\n",
    "\n",
    "    parsed_stat = {} # Initialize an empty dictionary to store parsed values\n",
    "    parsed_stat['id'] = stat['id'] # Copy the 'id' from the input stat\n",
    "    parsed_stat['text'] = stat['text'] # Copy the 'text' description from the input stat\n",
    "    parsed_stat['key_stat'] = stat['key_stat'] # Copy the 'key_stat' from the input stat\n",
    "    parsed_stat['values'] = [] # Initialize an empty list to store parsed values\n",
    "\n",
    "    for var in stat['vars']: # Loop through the 'vars' list of the input stat\n",
    "        key = var['key']\n",
    "        type_ = var['type']\n",
    "        values = var['values']\n",
    "\n",
    "        if type_ == 'rand': # If the type is 'rand', calculate a random value within a range\n",
    "            min_ = values[tier-1][0]\n",
    "            max_ = values[tier-1][1]\n",
    "            value = random.randint(int(min_), int(max_)) # Generate a random value\n",
    "\n",
    "        # elif type_ == 'choice':\n",
    "        # \tvalue = random.choice(values)\n",
    "        elif type_ == 'fixed': # If the type is 'fixed', directly use the value for the tier\n",
    "            value = values[tier-1]\n",
    "\n",
    "        parsed_stat['values'].append([key, value]) # Append the parsed key-value pair to the 'values' list\n",
    "    return parsed_stat"
   ]
  },
  {
   "cell_type": "code",
   "execution_count": 22,
   "id": "742d6f26-3429-43fd-a0b5-9479271090e4",
   "metadata": {
    "tags": []
   },
   "outputs": [],
   "source": [
    "stat1_parsed = parse_stat(stat1, 1)"
   ]
  },
  {
   "cell_type": "code",
   "execution_count": 23,
   "id": "10ed53b4-1e5f-4043-a38b-fa800b078913",
   "metadata": {
    "tags": []
   },
   "outputs": [],
   "source": [
    "def format_stat(parsed_stat):\n",
    "\n",
    "\ttext = parsed_stat['text'] # Get the original 'text' description from the parsed stat\n",
    "\n",
    "    # Iterate through the key-value pairs in the 'values' list of the parsed stat\n",
    "\tfor key, value in parsed_stat['values']:\n",
    "\t\ttext = text.replace(key, str(value)) # Replace each occurrence of 'key' with 'value' in the text\n",
    "\n",
    "    # Return the formatted text representation of the parsed stat\n",
    "\treturn text"
   ]
  },
  {
   "cell_type": "code",
   "execution_count": 24,
   "id": "b45ab689-d43b-437a-87d2-e619ca0cd279",
   "metadata": {
    "tags": []
   },
   "outputs": [
    {
     "data": {
      "text/plain": [
       "'1% Defense'"
      ]
     },
     "execution_count": 24,
     "metadata": {},
     "output_type": "execute_result"
    }
   ],
   "source": [
    "stat1_parsed = parse_stat(stat1, 1)\n",
    "format_stat(stat1_parsed)"
   ]
  },
  {
   "cell_type": "code",
   "execution_count": null,
   "id": "3060d251-520b-4dde-b356-3e9d785780fc",
   "metadata": {},
   "outputs": [],
   "source": [
    "# TO DO\n",
    "# Add Item Upgrade Level\n",
    "# Turn everything into an item class\n",
    "# Create random item ()\n",
    "# Create item with particular affixes\n"
   ]
  },
  {
   "cell_type": "code",
   "execution_count": 25,
   "id": "b1d9eb76-94cd-4cd1-9c18-b016abe02344",
   "metadata": {
    "tags": []
   },
   "outputs": [
    {
     "data": {
      "text/plain": [
       "{'Tier 1': {'item_tier': 1, 'level_range': range(1, 11)},\n",
       " 'Tier 2': {'item_tier': 2, 'level_range': range(11, 21)},\n",
       " 'Tier 3': {'item_tier': 3, 'level_range': range(21, 31)}}"
      ]
     },
     "execution_count": 25,
     "metadata": {},
     "output_type": "execute_result"
    }
   ],
   "source": [
    "TIERS"
   ]
  },
  {
   "cell_type": "code",
   "execution_count": 26,
   "id": "b63b36bb-0bf2-46a1-9b3d-bffb6fb2c7ed",
   "metadata": {
    "tags": []
   },
   "outputs": [
    {
     "name": "stdout",
     "output_type": "stream",
     "text": [
      "Tier 1\n",
      "Tier 2\n",
      "Tier 3\n"
     ]
    }
   ],
   "source": [
    "for tier in TIERS:\n",
    "    print (tier)"
   ]
  },
  {
   "cell_type": "code",
   "execution_count": 1542,
   "id": "7e4e7c5d-ee61-4ac0-9ac9-c6d329627bf8",
   "metadata": {
    "tags": []
   },
   "outputs": [
    {
     "data": {
      "text/plain": [
       "(['Dagger', 'Ring'],\n",
       " ['Normal', 'Uncommon', 'Rare', 'Heroic', 'Epic'],\n",
       " ['Health', 'Defense', 'Speed'],\n",
       " ['MainStats', 'SubStats'],\n",
       " ['Tier 1', 'Tier 2', 'Tier 3'])"
      ]
     },
     "execution_count": 1542,
     "metadata": {},
     "output_type": "execute_result"
    }
   ],
   "source": [
    "# Check what we have so far:\n",
    "list(TYPES), list(GRADES), list(SETS), list(STATS), list(TIERS)"
   ]
  },
  {
   "cell_type": "code",
   "execution_count": 872,
   "id": "3dfd7962-8e98-4551-9683-809305a58977",
   "metadata": {
    "tags": []
   },
   "outputs": [
    {
     "data": {
      "text/plain": [
       "{'MainStats': {'0': {'id': 0,\n",
       "   'text': '<A>% Atack',\n",
       "   'key_stat': 'attack_percent',\n",
       "   'vars': [{'key': '<A>', 'type': 'fixed', 'values': [10, 11, 12]}],\n",
       "   'upgrade_vals': [5, 5, 6, 6, 16]},\n",
       "  '1': {'id': 1,\n",
       "   'text': '<A> Atack',\n",
       "   'key_stat': 'attack_flat',\n",
       "   'vars': [{'key': '<A>', 'type': 'fixed', 'values': [50, 55, 60]}],\n",
       "   'upgrade_vals': [10, 10, 20, 20, 50]}},\n",
       " 'SubStats': {'1000': {'id': 1000,\n",
       "   'text': '<A>% Atack',\n",
       "   'key_stat': 'attack_percent',\n",
       "   'vars': [{'key': '<A>',\n",
       "     'type': 'rand',\n",
       "     'values': [[1, 3], [2, 4], [3, 5]]}]},\n",
       "  '1001': {'id': 1001,\n",
       "   'text': '<A> Atack',\n",
       "   'key_stat': 'attack_flat',\n",
       "   'vars': [{'key': '<A>',\n",
       "     'type': 'rand',\n",
       "     'values': [[10, 15], [13, 18], [15, 20]]}]},\n",
       "  '1002': {'id': 1002,\n",
       "   'text': '<A>% Defense',\n",
       "   'key_stat': 'defense_percent',\n",
       "   'vars': [{'key': '<A>',\n",
       "     'type': 'rand',\n",
       "     'values': [[1, 3], [2, 4], [3, 5]]}]},\n",
       "  '1003': {'id': 1003,\n",
       "   'text': '<A> Defense',\n",
       "   'key_stat': 'defense_flat',\n",
       "   'vars': [{'key': '<A>',\n",
       "     'type': 'rand',\n",
       "     'values': [[10, 15], [13, 18], [15, 20]]}]},\n",
       "  '1004': {'id': 1004,\n",
       "   'text': '<A> Speed',\n",
       "   'key_stat': 'speed_flat',\n",
       "   'vars': [{'key': '<A>',\n",
       "     'type': 'rand',\n",
       "     'values': [[1, 3], [1, 4], [2, 5]]}]},\n",
       "  '1005': {'id': 1005,\n",
       "   'text': '<A>% Crit Rate Chance',\n",
       "   'key_stat': 'crit_rate',\n",
       "   'vars': [{'key': '<A>',\n",
       "     'type': 'rand',\n",
       "     'values': [[1, 3], [2, 4], [3, 6]]}]},\n",
       "  '1006': {'id': 1006,\n",
       "   'text': '<A>% Crit Damage',\n",
       "   'key_stat': 'crit_damage',\n",
       "   'vars': [{'key': '<A>',\n",
       "     'type': 'rand',\n",
       "     'values': [[10, 13], [12, 14], [13, 16]]}]}}}"
      ]
     },
     "execution_count": 872,
     "metadata": {},
     "output_type": "execute_result"
    }
   ],
   "source": [
    "STATS"
   ]
  },
  {
   "cell_type": "code",
   "execution_count": 30,
   "id": "b3998683-2993-455a-a476-b4a4db1acb4e",
   "metadata": {
    "tags": []
   },
   "outputs": [
    {
     "data": {
      "text/plain": [
       "'A'"
      ]
     },
     "execution_count": 30,
     "metadata": {},
     "output_type": "execute_result"
    }
   ],
   "source": [
    "import random\n",
    "\n",
    "grades = [\"A\", \"B\", \"C\", \"D\"]\n",
    "weights = [0.4, 0.3, 0.2, 0.1]  # Example probability weights for each grade\n",
    "\n",
    "item_grade = random.choices(grades, weights=weights)[0]\n",
    "item_grade"
   ]
  },
  {
   "cell_type": "code",
   "execution_count": 32,
   "id": "55f100eb-933c-4cff-90bd-a5d42fa6c4d6",
   "metadata": {
    "tags": []
   },
   "outputs": [
    {
     "data": {
      "text/plain": [
       "'Rare'"
      ]
     },
     "execution_count": 32,
     "metadata": {},
     "output_type": "execute_result"
    }
   ],
   "source": [
    "pick_grade = random.choices(list(GRADES.keys()), weights=[grade['weight'] for grade in GRADES.values()])[0]\n",
    "pick_grade"
   ]
  },
  {
   "cell_type": "code",
   "execution_count": 1544,
   "id": "3ebf130d-97a3-4559-861b-716651e6249f",
   "metadata": {
    "tags": []
   },
   "outputs": [],
   "source": [
    "# Test if \n",
    "common = 0\n",
    "good = 0\n",
    "rare = 0\n",
    "heroic = 0\n",
    "epic = 0\n",
    "iters = 100000\n",
    "for i in range(1,iters):\n",
    "    pick_grade = random.choices(list(GRADES.keys()), weights=[grade['weight'] for grade in GRADES.values()])[0]\n",
    "    if pick_grade == 'Normal': common += 1\n",
    "    elif pick_grade == 'Good' : good += 1\n",
    "    elif pick_grade == 'Rare': rare += 1\n",
    "    elif pick_grade == 'Heroic': heroic += 1\n",
    "    elif pick_grade == 'Epic': epic += 1"
   ]
  },
  {
   "cell_type": "code",
   "execution_count": 1545,
   "id": "277dce75-b62e-490d-9e31-8d8d4474b153",
   "metadata": {
    "tags": []
   },
   "outputs": [
    {
     "data": {
      "text/plain": [
       "(0.04914, 0.10013, 0.39992, 0.35088, 0.09854)"
      ]
     },
     "execution_count": 1545,
     "metadata": {},
     "output_type": "execute_result"
    }
   ],
   "source": [
    "common/iters, uncom/iters, rare/iters, heroic/iters, epic/iters"
   ]
  },
  {
   "cell_type": "code",
   "execution_count": 35,
   "id": "ec2d7f33-2fb8-4b69-ab98-9c55ae53e91c",
   "metadata": {
    "tags": []
   },
   "outputs": [
    {
     "data": {
      "text/plain": [
       "dict_values([{'starting_substats': 0, 'max_substats': 4, 'weight': 0.05}, {'starting_substats': 1, 'max_substats': 4, 'weight': 0.1}, {'starting_substats': 2, 'max_substats': 4, 'weight': 0.4}, {'starting_substats': 3, 'max_substats': 4, 'weight': 0.35}, {'starting_substats': 4, 'max_substats': 4, 'weight': 0.1}])"
      ]
     },
     "execution_count": 35,
     "metadata": {},
     "output_type": "execute_result"
    }
   ],
   "source": [
    "GRADES.values()"
   ]
  },
  {
   "cell_type": "code",
   "execution_count": 36,
   "id": "130ad53a-4f97-4d1c-b69f-76e13becb697",
   "metadata": {
    "tags": []
   },
   "outputs": [],
   "source": [
    "weights = [grade['weight'] for grade in GRADES.values()]"
   ]
  },
  {
   "cell_type": "code",
   "execution_count": 37,
   "id": "f330459b-dace-4f99-914e-7090a82b6903",
   "metadata": {
    "tags": []
   },
   "outputs": [
    {
     "data": {
      "text/plain": [
       "[0.05, 0.1, 0.4, 0.35, 0.1]"
      ]
     },
     "execution_count": 37,
     "metadata": {},
     "output_type": "execute_result"
    }
   ],
   "source": [
    "weights"
   ]
  },
  {
   "cell_type": "code",
   "execution_count": 1546,
   "id": "0b3e34e0-c6ee-4289-b275-1356db61c2b7",
   "metadata": {
    "tags": []
   },
   "outputs": [
    {
     "data": {
      "text/plain": [
       "dict_keys(['Normal', 'Good', 'Rare', 'Heroic', 'Epic'])"
      ]
     },
     "execution_count": 1546,
     "metadata": {},
     "output_type": "execute_result"
    }
   ],
   "source": [
    "GRADES.keys()"
   ]
  },
  {
   "cell_type": "code",
   "execution_count": 39,
   "id": "566ed1e2-1f0e-497b-b95c-04639c963de4",
   "metadata": {
    "tags": []
   },
   "outputs": [],
   "source": [
    "# Get item tier based on level\n",
    "def get_item_tier(level):\n",
    "    tier = '' # Initialize Empty tier\n",
    "    for t in TIERS: # Loop through our tiers dictionary\n",
    "        if level in TIERS[t]['level_range']: # Check if the level is in the level range in each section\n",
    "            tier = TIERS[t]['item_tier'] # If the levle matches, then return that tier value\n",
    "    return tier\n"
   ]
  },
  {
   "cell_type": "code",
   "execution_count": 47,
   "id": "154dc7c2-8c4e-4857-abf0-90ea746daa52",
   "metadata": {
    "tags": []
   },
   "outputs": [
    {
     "data": {
      "text/plain": [
       "{'Dagger': {'main_stats': [0], 'sub_stats': [1000, 1001, 1004, 1005, 1006]},\n",
       " 'Ring': {'main_stats': [0, 1],\n",
       "  'sub_stats': [1000, 1001, 1002, 1003, 1004, 1005, 1006]}}"
      ]
     },
     "execution_count": 47,
     "metadata": {},
     "output_type": "execute_result"
    }
   ],
   "source": [
    "TYPES"
   ]
  },
  {
   "cell_type": "code",
   "execution_count": 48,
   "id": "9028dd17-dd1a-40c3-90c1-0de28c735f62",
   "metadata": {
    "tags": []
   },
   "outputs": [
    {
     "data": {
      "text/plain": [
       "[0, 1]"
      ]
     },
     "execution_count": 48,
     "metadata": {},
     "output_type": "execute_result"
    }
   ],
   "source": [
    "TYPES['Ring']['main_stats']"
   ]
  },
  {
   "cell_type": "code",
   "execution_count": null,
   "id": "1d36b4f8-4f92-4afd-bcb3-50a4d0b15ca8",
   "metadata": {},
   "outputs": [],
   "source": [
    "z"
   ]
  },
  {
   "cell_type": "code",
   "execution_count": 56,
   "id": "973f2ee4-b11a-48d6-ae23-c834b8471610",
   "metadata": {
    "tags": []
   },
   "outputs": [
    {
     "name": "stdout",
     "output_type": "stream",
     "text": [
      "0\n",
      "1\n"
     ]
    }
   ],
   "source": [
    "for id in TYPES['Ring']['main_stats']:\n",
    "    print(id)"
   ]
  },
  {
   "cell_type": "code",
   "execution_count": 448,
   "id": "c55fd646-1a80-406b-b375-0012db141bea",
   "metadata": {
    "tags": []
   },
   "outputs": [
    {
     "data": {
      "text/plain": [
       "'Heroic'"
      ]
     },
     "execution_count": 448,
     "metadata": {},
     "output_type": "execute_result"
    }
   ],
   "source": [
    "random.choices(list(GRADES.keys()), weights=[grade['weight'] for grade in GRADES.values()])[0]"
   ]
  },
  {
   "cell_type": "code",
   "execution_count": 460,
   "id": "50a7cd5b-1838-4ad4-9e0f-b801f518eba3",
   "metadata": {
    "tags": []
   },
   "outputs": [
    {
     "data": {
      "text/plain": [
       "3"
      ]
     },
     "execution_count": 460,
     "metadata": {},
     "output_type": "execute_result"
    }
   ],
   "source": [
    "GRADES[random.choices(list(GRADES.keys()), weights=[grade['weight'] for grade in GRADES.values()])[0]]['starting_substats']"
   ]
  },
  {
   "cell_type": "code",
   "execution_count": 489,
   "id": "2e815c53-e557-4c43-9f40-ff64e31194a8",
   "metadata": {
    "tags": []
   },
   "outputs": [
    {
     "data": {
      "text/plain": [
       "'Rare'"
      ]
     },
     "execution_count": 489,
     "metadata": {},
     "output_type": "execute_result"
    }
   ],
   "source": [
    "random.choices(list(GRADES.keys()), weights=[grade['weight'] for grade in GRADES.values()])[0]"
   ]
  },
  {
   "cell_type": "code",
   "execution_count": 499,
   "id": "ba0e71a1-0e9e-423f-b770-7570c5386d13",
   "metadata": {
    "tags": []
   },
   "outputs": [
    {
     "data": {
      "text/plain": [
       "3"
      ]
     },
     "execution_count": 499,
     "metadata": {},
     "output_type": "execute_result"
    }
   ],
   "source": [
    "GRADES[random.choices(list(GRADES.keys()), weights=[grade['weight'] for grade in GRADES.values()])[0]]['starting_substats']"
   ]
  },
  {
   "cell_type": "code",
   "execution_count": 1210,
   "id": "f3d91c13-e4eb-454a-a194-a4eb8b7b110d",
   "metadata": {
    "tags": []
   },
   "outputs": [
    {
     "data": {
      "text/plain": [
       "0"
      ]
     },
     "execution_count": 1210,
     "metadata": {},
     "output_type": "execute_result"
    }
   ],
   "source": [
    "GRADES['Normal']['starting_substats']"
   ]
  },
  {
   "cell_type": "code",
   "execution_count": 1211,
   "id": "238f93ab-f23b-4f34-b3e6-909fe57e2795",
   "metadata": {
    "tags": []
   },
   "outputs": [],
   "source": [
    "def create_random_item(item_level = None, item_type = None, item_grade = None, item_set = None):\n",
    "\n",
    "    if item_level is None:\n",
    "        item_level = random.randint(1, 30)\n",
    "        item_tier = get_item_tier(item_level)\n",
    "    else:\n",
    "        item_tier = get_item_tier(item_level)\n",
    "    \n",
    "    if item_type is None:\n",
    "        item_type = random.choice(list(TYPES))\n",
    "        \n",
    "    if item_grade is None:\n",
    "        item_grade = random.choices(list(GRADES.keys()), weights=[grade['weight'] for grade in GRADES.values()])[0]\n",
    "        \n",
    "    if item_set is None:\n",
    "        item_set = random.choice(list(SETS))\n",
    "\n",
    "    mainstat = []\n",
    "    substats = []\n",
    "\n",
    "    # Get main stat\n",
    "    mainstat.append(parse_stat(get_random_stat('MainStats', item_type), item_tier))\n",
    "    \n",
    "    # Get first substat\n",
    "    if GRADES[item_grade]['starting_substats'] > 0:\n",
    "        substats.append(parse_stat(get_random_stat('SubStats', item_type), item_tier))\n",
    "                       \n",
    "    # Add more subtats to fill the rest of the item:\n",
    "    for i in range(1, GRADES[item_grade]['starting_substats']):\n",
    "        stat = get_non_overlapping_stat(substats, 'SubStats', item_type)\n",
    "        substats.append(parse_stat(stat, item_tier))\n",
    "\n",
    "    item = {}\n",
    "    item['name'] = \"VERY VERY VERY BIG ITEM NAME\"\n",
    "    item['type'] = item_type\n",
    "    item['set'] = item_set\n",
    "    item['level'] = item_level\n",
    "    item['tier'] = item_tier\n",
    "    item['upgrade_level'] = 0\n",
    "    item['grade'] = item_grade\n",
    "    item['mainstat'] = mainstat\n",
    "    item['substats'] = substats\n",
    "\n",
    "    return item"
   ]
  },
  {
   "cell_type": "code",
   "execution_count": 1198,
   "id": "8f27ed50-4fe2-4a13-bdda-a6ad14bfee58",
   "metadata": {
    "tags": []
   },
   "outputs": [],
   "source": [
    "def add_new_substat(item):\n",
    "    if len(item['substats']) < GRADES[item['grade']]['max_substats']:\n",
    "        substats = item['substats']\n",
    "        new_stat = get_non_overlapping_stat(substats, 'SubStats', item['type'])\n",
    "        substats.append(parse_stat(new_stat, item['tier']))\n",
    "        item['substats'] = substats\n",
    "    else:\n",
    "        print('Item already has max number of substats!')\n",
    "    return item"
   ]
  },
  {
   "cell_type": "code",
   "execution_count": 1351,
   "id": "5082f1f9-ae41-4485-bd12-1054798c8ef4",
   "metadata": {
    "tags": []
   },
   "outputs": [
    {
     "data": {
      "text/plain": [
       "{'name': 'VERY VERY VERY BIG ITEM NAME',\n",
       " 'type': 'Dagger',\n",
       " 'set': 'Health',\n",
       " 'level': 22,\n",
       " 'tier': 3,\n",
       " 'upgrade_level': 0,\n",
       " 'grade': 'Epic',\n",
       " 'mainstat': [{'id': 0,\n",
       "   'text': '<A>% Atack',\n",
       "   'key_stat': 'attack_percent',\n",
       "   'values': [['<A>', 12]]}],\n",
       " 'substats': [{'id': 1004,\n",
       "   'text': '<A> Speed',\n",
       "   'key_stat': 'speed_flat',\n",
       "   'values': [['<A>', 4]]},\n",
       "  {'id': 1001,\n",
       "   'text': '<A> Atack',\n",
       "   'key_stat': 'attack_flat',\n",
       "   'values': [['<A>', 16]]},\n",
       "  {'id': 1006,\n",
       "   'text': '<A>% Crit Damage',\n",
       "   'key_stat': 'crit_damage',\n",
       "   'values': [['<A>', 16]]},\n",
       "  {'id': 1000,\n",
       "   'text': '<A>% Atack',\n",
       "   'key_stat': 'attack_percent',\n",
       "   'values': [['<A>', 5]]}]}"
      ]
     },
     "execution_count": 1351,
     "metadata": {},
     "output_type": "execute_result"
    }
   ],
   "source": [
    "item1 = create_random_item(item_grade = 'Epic')\n",
    "item1"
   ]
  },
  {
   "cell_type": "code",
   "execution_count": 1177,
   "id": "8e8fba08-a048-4a0f-8787-9ef450f48ae4",
   "metadata": {
    "tags": []
   },
   "outputs": [
    {
     "data": {
      "text/plain": [
       "int"
      ]
     },
     "execution_count": 1177,
     "metadata": {},
     "output_type": "execute_result"
    }
   ],
   "source": [
    "type(GRADES[item1['grade']]['max_substats'])"
   ]
  },
  {
   "cell_type": "code",
   "execution_count": 1169,
   "id": "3e5e8f4b-ccc7-4bac-bfc4-7319a1151e61",
   "metadata": {
    "tags": []
   },
   "outputs": [
    {
     "data": {
      "text/plain": [
       "'Heroic'"
      ]
     },
     "execution_count": 1169,
     "metadata": {},
     "output_type": "execute_result"
    }
   ],
   "source": [
    "item1['grade']"
   ]
  },
  {
   "cell_type": "code",
   "execution_count": 1175,
   "id": "82694cbd-81ba-44d2-ba3d-9a393e4b9ab3",
   "metadata": {
    "tags": []
   },
   "outputs": [
    {
     "data": {
      "text/plain": [
       "1"
      ]
     },
     "execution_count": 1175,
     "metadata": {},
     "output_type": "execute_result"
    }
   ],
   "source": [
    "len(item1['substats'])"
   ]
  },
  {
   "cell_type": "code",
   "execution_count": 1352,
   "id": "a981691b-e3dc-41e8-a92a-9e9da40dc6a0",
   "metadata": {
    "tags": []
   },
   "outputs": [
    {
     "name": "stdout",
     "output_type": "stream",
     "text": [
      "Item already has max number of substats!\n"
     ]
    },
    {
     "data": {
      "text/plain": [
       "{'name': 'VERY VERY VERY BIG ITEM NAME',\n",
       " 'type': 'Dagger',\n",
       " 'set': 'Health',\n",
       " 'level': 22,\n",
       " 'tier': 3,\n",
       " 'upgrade_level': 0,\n",
       " 'grade': 'Epic',\n",
       " 'mainstat': [{'id': 0,\n",
       "   'text': '<A>% Atack',\n",
       "   'key_stat': 'attack_percent',\n",
       "   'values': [['<A>', 12]]}],\n",
       " 'substats': [{'id': 1004,\n",
       "   'text': '<A> Speed',\n",
       "   'key_stat': 'speed_flat',\n",
       "   'values': [['<A>', 4]]},\n",
       "  {'id': 1001,\n",
       "   'text': '<A> Atack',\n",
       "   'key_stat': 'attack_flat',\n",
       "   'values': [['<A>', 16]]},\n",
       "  {'id': 1006,\n",
       "   'text': '<A>% Crit Damage',\n",
       "   'key_stat': 'crit_damage',\n",
       "   'values': [['<A>', 16]]},\n",
       "  {'id': 1000,\n",
       "   'text': '<A>% Atack',\n",
       "   'key_stat': 'attack_percent',\n",
       "   'values': [['<A>', 5]]}]}"
      ]
     },
     "execution_count": 1352,
     "metadata": {},
     "output_type": "execute_result"
    }
   ],
   "source": [
    "add_new_substat(item1)"
   ]
  },
  {
   "cell_type": "code",
   "execution_count": 1526,
   "id": "6b7180c4-4a00-427a-9d43-eaf155d79979",
   "metadata": {
    "tags": []
   },
   "outputs": [],
   "source": [
    "def print_item(item):\n",
    "\n",
    "    #print(item['name'])\n",
    "    print(f\"+{item['upgrade_level']} {item['grade']} {item['type']} (iLvL {item['level']})\")\n",
    "    print(f\"{item['set']} Set\")\n",
    "    # print(f\"iLvl: {item['level']}\")\n",
    "\n",
    "    print('---')\n",
    "    print('MAIN STAT:')\n",
    "    print(format_stat(item['mainstat'][0]))\n",
    "\n",
    "    print('---')\n",
    "    if len(item['substats']) == 1:\n",
    "        print('SUBSTAT:')\n",
    "    else:\n",
    "        print('SUBSTATS:')\n",
    "    for s in item['substats']:\n",
    "        print(format_stat(s))"
   ]
  },
  {
   "cell_type": "code",
   "execution_count": 990,
   "id": "9bf8f387-673c-4517-8c9b-217fd292f3b7",
   "metadata": {
    "tags": []
   },
   "outputs": [
    {
     "name": "stdout",
     "output_type": "stream",
     "text": [
      "VERY VERY VERY BIG ITEM NAME\n",
      "+0 Heroic Dagger (iLvL 24)\n",
      "Defense Set\n",
      "---\n",
      "MAIN STAT:\n",
      "12% Atack\n",
      "---\n",
      "SUBSTATS:\n",
      "13% Crit Damage\n",
      "5% Atack\n",
      "17 Atack\n"
     ]
    }
   ],
   "source": [
    "item1 = create_random_item()\n",
    "print_item(item1)"
   ]
  },
  {
   "cell_type": "code",
   "execution_count": 961,
   "id": "394331eb-51f5-497e-8229-7d9824b38575",
   "metadata": {
    "tags": []
   },
   "outputs": [
    {
     "data": {
      "text/plain": [
       "1005"
      ]
     },
     "execution_count": 961,
     "metadata": {},
     "output_type": "execute_result"
    }
   ],
   "source": [
    "random.choice(list(item1['substats']))['id']"
   ]
  },
  {
   "cell_type": "code",
   "execution_count": 1000,
   "id": "5359ff32-1f82-4c0d-8ccd-ebff3fbc0c4b",
   "metadata": {
    "tags": []
   },
   "outputs": [
    {
     "data": {
      "text/plain": [
       "{'id': 1006,\n",
       " 'text': '<A>% Crit Damage',\n",
       " 'key_stat': 'crit_damage',\n",
       " 'vars': [{'key': '<A>',\n",
       "   'type': 'rand',\n",
       "   'values': [[10, 13], [12, 14], [13, 16]]}]}"
      ]
     },
     "execution_count": 1000,
     "metadata": {},
     "output_type": "execute_result"
    }
   ],
   "source": [
    "STATS['SubStats'][str(random.choice(list(item1['substats']))['id'])]"
   ]
  },
  {
   "cell_type": "code",
   "execution_count": 1011,
   "id": "bf739e67-3a74-4e9c-a02e-2951713bd598",
   "metadata": {
    "tags": []
   },
   "outputs": [
    {
     "data": {
      "text/plain": [
       "20"
      ]
     },
     "execution_count": 1011,
     "metadata": {},
     "output_type": "execute_result"
    }
   ],
   "source": [
    "STATS['SubStats']['1003']['vars'][0]['values'][2][1]"
   ]
  },
  {
   "cell_type": "code",
   "execution_count": 1002,
   "id": "bd534213-17e4-4f0e-b77d-b3396565e5d4",
   "metadata": {
    "tags": []
   },
   "outputs": [
    {
     "data": {
      "text/plain": [
       "{'starting_substats': 2, 'max_substats': 4, 'weight': 0.4}"
      ]
     },
     "execution_count": 1002,
     "metadata": {},
     "output_type": "execute_result"
    }
   ],
   "source": [
    "GRADES['Rare']"
   ]
  },
  {
   "cell_type": "code",
   "execution_count": 1036,
   "id": "8de20151-b696-456d-ba17-6f52f039d7a9",
   "metadata": {
    "tags": []
   },
   "outputs": [
    {
     "data": {
      "text/plain": [
       "[{'id': 1006,\n",
       "  'text': '<A>% Crit Damage',\n",
       "  'key_stat': 'crit_damage',\n",
       "  'values': [['<A>', 13]]},\n",
       " {'id': 1000,\n",
       "  'text': '<A>% Atack',\n",
       "  'key_stat': 'attack_percent',\n",
       "  'values': [['<A>', 5]]},\n",
       " {'id': 1001,\n",
       "  'text': '<A> Atack',\n",
       "  'key_stat': 'attack_flat',\n",
       "  'values': [['<A>', 17]]}]"
      ]
     },
     "execution_count": 1036,
     "metadata": {},
     "output_type": "execute_result"
    }
   ],
   "source": [
    "item1['substats']"
   ]
  },
  {
   "cell_type": "code",
   "execution_count": 1075,
   "id": "6e66be18-371c-473d-9cd0-acafd32b0d73",
   "metadata": {
    "tags": []
   },
   "outputs": [
    {
     "name": "stdout",
     "output_type": "stream",
     "text": [
      "5\n"
     ]
    }
   ],
   "source": [
    "for a in item1['substats']:\n",
    "    if '1000' in str(a['id']):\n",
    "        print(a['values'][0][1])"
   ]
  },
  {
   "cell_type": "code",
   "execution_count": 1026,
   "id": "15d4364f-266e-4a5c-9bee-3e93b6b1a7a8",
   "metadata": {
    "tags": []
   },
   "outputs": [
    {
     "data": {
      "text/plain": [
       "3"
      ]
     },
     "execution_count": 1026,
     "metadata": {},
     "output_type": "execute_result"
    }
   ],
   "source": [
    "random.randint(1,3)"
   ]
  },
  {
   "cell_type": "code",
   "execution_count": 1151,
   "id": "7029c0c0-f7fb-4555-9ab8-29d2dae9d60e",
   "metadata": {
    "tags": []
   },
   "outputs": [
    {
     "data": {
      "text/plain": [
       "3"
      ]
     },
     "execution_count": 1151,
     "metadata": {},
     "output_type": "execute_result"
    }
   ],
   "source": [
    "len(item2['substats'])"
   ]
  },
  {
   "cell_type": "code",
   "execution_count": 1200,
   "id": "5f379545-ea9d-4094-82ca-2a2b20b9a3a3",
   "metadata": {
    "tags": []
   },
   "outputs": [
    {
     "data": {
      "text/plain": [
       "{'Normal': {'starting_substats': 0, 'max_substats': 4, 'weight': 0.05},\n",
       " 'Uncommon': {'starting_substats': 1, 'max_substats': 4, 'weight': 0.1},\n",
       " 'Rare': {'starting_substats': 2, 'max_substats': 4, 'weight': 0.4},\n",
       " 'Heroic': {'starting_substats': 3, 'max_substats': 4, 'weight': 0.35},\n",
       " 'Epic': {'starting_substats': 4, 'max_substats': 4, 'weight': 0.1}}"
      ]
     },
     "execution_count": 1200,
     "metadata": {},
     "output_type": "execute_result"
    }
   ],
   "source": [
    "GRADES"
   ]
  },
  {
   "cell_type": "code",
   "execution_count": 1442,
   "id": "0c4dd33b-0d7c-4d54-82fb-5f3be35468fe",
   "metadata": {
    "tags": []
   },
   "outputs": [],
   "source": [
    "def upgrade_main_stat(item):\n",
    "    main_stat_id = str(item['mainstat'][0]['id'])\n",
    "    upgrade_level = item['upgrade_level']\n",
    "    \n",
    "    if main_stat_id in STATS['MainStats']:\n",
    "        upgrade_val = STATS['MainStats'][main_stat_id]['upgrade_vals'][upgrade_level]\n",
    "        item['mainstat'][0]['values'][0][1] += upgrade_val\n",
    "        return True\n",
    "    return False\n",
    "\n",
    "\n",
    "def upgrade_random_sub_stat(item):\n",
    "    if 'substats' in item and item['substats']:\n",
    "        random_substat = random.choice(item['substats'])\n",
    "        random_substat_id = str(random_substat['id'])\n",
    "        \n",
    "        if random_substat_id in STATS['SubStats']:\n",
    "            upgrade_val_range = STATS['SubStats'][random_substat_id]['vars'][0]['values'][item['tier'] - 1]\n",
    "            upgrade_val_min, upgrade_val_max = upgrade_val_range\n",
    "            upgrade_val = random.randint(upgrade_val_min, upgrade_val_max)\n",
    "            \n",
    "            for s in item['substats']:\n",
    "                if random_substat_id in str(s['id']):\n",
    "                    s['values'][0][1] += upgrade_val\n",
    "                    return True\n",
    "    return False\n",
    "\n",
    "\n",
    "def upgrade_item(item):\n",
    "    upgrade_level = item['upgrade_level']\n",
    "    if upgrade_level < 5:\n",
    "        \n",
    "        # Upgrade Main Stat\n",
    "        upgrade_main_stat(item)\n",
    "        \n",
    "        # Normal Gear:\n",
    "        if item['grade'] == 'Normal' and upgrade_level < 4:\n",
    "            add_new_substat(item)\n",
    "            \n",
    "        # Good Gear:\n",
    "        elif item['grade'] == 'Good' and upgrade_level < 1:\n",
    "            upgrade_random_sub_stat(item)\n",
    "        elif item['grade'] == 'Good' and upgrade_level < 4:\n",
    "            add_new_substat(item)\n",
    "            \n",
    "        # Rare Gear:\n",
    "        elif item['grade'] == 'Rare' and upgrade_level < 2:\n",
    "            upgrade_random_sub_stat(item)\n",
    "        elif item['grade'] == 'Rare' and upgrade_level < 4:\n",
    "            add_new_substat(item)\n",
    "\n",
    "        # Heroic Gear:\n",
    "        elif item['grade'] == 'Heroic' and upgrade_level < 3:\n",
    "            upgrade_random_sub_stat(item)\n",
    "        elif item['grade'] == 'Heroic' and upgrade_level < 4:\n",
    "            add_new_substat(item)\n",
    "        \n",
    "        # For Epic Gear as well as other gear at upgrade level 4~\n",
    "        else:\n",
    "            upgrade_random_sub_stat(item)\n",
    "        \n",
    "        # Increase upgrade level by 1\n",
    "        item['upgrade_level'] += 1\n",
    "        \n",
    "        return item\n",
    "    \n",
    "    else:\n",
    "        print('Item already at max upgrade level!')\n",
    "        return item"
   ]
  },
  {
   "cell_type": "code",
   "execution_count": 1554,
   "id": "84d6f1b4-61e2-43ae-96fd-cbb205d7ecf6",
   "metadata": {
    "tags": []
   },
   "outputs": [
    {
     "name": "stdout",
     "output_type": "stream",
     "text": [
      "+0 Rare Ring (iLvL 5)\n",
      "Health Set\n",
      "---\n",
      "MAIN STAT:\n",
      "50 Atack\n",
      "---\n",
      "SUBSTATS:\n",
      "3% Atack\n",
      "1% Crit Rate Chance\n"
     ]
    }
   ],
   "source": [
    "item2 = create_random_item()\n",
    "print_item(item2)"
   ]
  },
  {
   "cell_type": "code",
   "execution_count": 1559,
   "id": "de81941b-9cf5-4f42-a49c-7d6538842531",
   "metadata": {
    "tags": []
   },
   "outputs": [
    {
     "name": "stdout",
     "output_type": "stream",
     "text": [
      "+5 Rare Ring (iLvL 5)\n",
      "Health Set\n",
      "---\n",
      "MAIN STAT:\n",
      "160 Atack\n",
      "---\n",
      "SUBSTATS:\n",
      "8% Atack\n",
      "3% Crit Rate Chance\n",
      "3 Speed\n",
      "14 Atack\n"
     ]
    }
   ],
   "source": [
    "print_item(upgrade_item(item2))"
   ]
  },
  {
   "cell_type": "code",
   "execution_count": 1541,
   "id": "8d20e3af-e483-4ba3-b105-a7b39ebf351d",
   "metadata": {
    "tags": []
   },
   "outputs": [
    {
     "data": {
      "text/plain": [
       "{'name': 'VERY VERY VERY BIG ITEM NAME',\n",
       " 'type': 'Ring',\n",
       " 'set': 'Speed',\n",
       " 'level': 23,\n",
       " 'tier': 3,\n",
       " 'upgrade_level': 4,\n",
       " 'grade': 'Heroic',\n",
       " 'mainstat': [{'id': 0,\n",
       "   'text': '<A>% Atack',\n",
       "   'key_stat': 'attack_percent',\n",
       "   'values': [['<A>', 34]]}],\n",
       " 'substats': [{'id': 1005,\n",
       "   'text': '<A>% Crit Rate Chance',\n",
       "   'key_stat': 'crit_rate',\n",
       "   'values': [['<A>', 7]]},\n",
       "  {'id': 1001,\n",
       "   'text': '<A> Atack',\n",
       "   'key_stat': 'attack_flat',\n",
       "   'values': [['<A>', 32]]},\n",
       "  {'id': 1000,\n",
       "   'text': '<A>% Atack',\n",
       "   'key_stat': 'attack_percent',\n",
       "   'values': [['<A>', 9]]},\n",
       "  {'id': 1004,\n",
       "   'text': '<A> Speed',\n",
       "   'key_stat': 'speed_flat',\n",
       "   'values': [['<A>', 2]]}]}"
      ]
     },
     "execution_count": 1541,
     "metadata": {},
     "output_type": "execute_result"
    }
   ],
   "source": [
    "item2"
   ]
  },
  {
   "cell_type": "code",
   "execution_count": 591,
   "id": "4deff91a-501b-4e50-a4d0-1a9f8389e322",
   "metadata": {
    "tags": []
   },
   "outputs": [],
   "source": [
    "def has_mainstat(item, ids = []):\n",
    "\n",
    "\tmainstat = []\n",
    "\tmainstat.extend(item['mainstat'])\n",
    "\n",
    "\tlist_ids = [m['id'] for m in mainstat]\n",
    "\n",
    "\tfor id in ids:\n",
    "\t\tif id not in list_ids:\n",
    "\t\t\treturn False \n",
    "\treturn True"
   ]
  },
  {
   "cell_type": "code",
   "execution_count": 592,
   "id": "944759a1-5c16-45a3-a2ba-da5a49854668",
   "metadata": {
    "tags": []
   },
   "outputs": [],
   "source": [
    "def has_substats(item, ids = []):\n",
    "\n",
    "\tsubstats = []\n",
    "\tsubstats.extend(item['substats'])\n",
    "\n",
    "\tlist_ids = [s['id'] for s in substats]\n",
    "\n",
    "\tfor id in ids:\n",
    "\t\tif id not in list_ids:\n",
    "\t\t\treturn False \n",
    "\treturn True"
   ]
  },
  {
   "cell_type": "code",
   "execution_count": 15,
   "id": "37bee38a-6fda-4e07-8781-db59aaae8781",
   "metadata": {
    "tags": []
   },
   "outputs": [],
   "source": [
    "# def to_view(item):\n",
    "\n",
    "# \tview_dict = {}\n",
    "# \tview_dict['name'] = item['name']\n",
    "# \tview_dict['tier'] = item['tier']\n",
    "# \tview_dict['type'] = item['type']\n",
    "# \tview_dict['stats'] = []\n",
    "# \tview_dict['affixes'] = []\n",
    "# \tview_dict['legendary'] = []\n",
    "# \tview_dict['sockets'] = []\n",
    "\n",
    "# \tfor stat in item['stats']:\n",
    "# \t\tview_dict['stats'].append(format_affix(stat))\n",
    "# \tfor affix in item['affixes']:\n",
    "# \t\tview_dict['affixes'].append(format_affix(affix))\n",
    "# \tfor affix in item['legendary']:\n",
    "# \t\tview_dict['legendary'].append(format_affix(affix))\n",
    "# \tfor socket in item['sockets']:\n",
    "# \t\tview_dict['sockets'].append(format_affix(socket))\n",
    "\n",
    "# \tview_dict['main_stat'] = view_dict['stats'].pop(0) #temp\n",
    "# \tview_dict['sell_value'] = 999\n",
    "# \tview_dict['durability'] = 100\n",
    "\n",
    "# \tdmg_icon = 'default'\n",
    "# \tif item['type'] in CONFIG['offensive']:\n",
    "# \t\tdmg_icon = 'offensive'\n",
    "# \telif item['type'] in CONFIG['defensive']:\n",
    "# \t\tdmg_icon = 'defensive'\n",
    "# \tview_dict['dmg_icon'] = dmg_icon\n",
    "\n",
    "# \treturn view_dict\n"
   ]
  }
 ],
 "metadata": {
  "kernelspec": {
   "display_name": "Python 3 (ipykernel)",
   "language": "python",
   "name": "python3"
  },
  "language_info": {
   "codemirror_mode": {
    "name": "ipython",
    "version": 3
   },
   "file_extension": ".py",
   "mimetype": "text/x-python",
   "name": "python",
   "nbconvert_exporter": "python",
   "pygments_lexer": "ipython3",
   "version": "3.11.4"
  }
 },
 "nbformat": 4,
 "nbformat_minor": 5
}
