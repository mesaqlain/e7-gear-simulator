{
 "cells": [
  {
   "cell_type": "markdown",
   "id": "c739f1ee-a73d-46de-a1a4-dbda1738cb5e",
   "metadata": {},
   "source": [
    "# Epic Seven Gear Simulator Testing Documentation\n",
    "This notebook documents the testing process.\n",
    "\n",
    "* The json data files are stored in the `/data` folder. The scripts to prepare these json file are also in the `/data` folder.\n",
    "* The test modules (along with this notebook) are stored in the `/tests` folder.\n",
    "* The class and function modules for the app are stored in the `/src` folder.\n",
    "* `unittest` module is used for running the tests."
   ]
  },
  {
   "cell_type": "markdown",
   "id": "3a68a852-e0c9-42c0-b81c-4eec9349aabc",
   "metadata": {},
   "source": [
    "### Directory Structure Issue\n",
    "\n",
    "Modules in `/tests` folder have to import data and modules from the `/data` or `/src` folders respectively, so we need to add the parent directory to the path.\n",
    "\n",
    "This is solved by importing `set_directory` function from the `set_directory_function` module. As such, every testing module should have the following two lines of code at the top, so that the parent folder can be added to the path."
   ]
  },
  {
   "cell_type": "code",
   "execution_count": null,
   "id": "1b3ed85d-dee6-4009-8a1d-5e2000a6e7a9",
   "metadata": {},
   "outputs": [],
   "source": [
    "from set_directory_function import set_directory\n",
    "set_directory()"
   ]
  },
  {
   "cell_type": "markdown",
   "id": "d3396bd4-5a20-4f8f-9d2f-78a4db61c914",
   "metadata": {},
   "source": [
    "### Running the tests\n",
    "The tests must be run from the root directory as:\n",
    "\n",
    "python tests/test_module_name.py\n",
    "\n",
    "e.g.,\n",
    "python tests/test_get_stat_by_id.py"
   ]
  },
  {
   "cell_type": "markdown",
   "id": "e58231cf-a1b7-4270-94d7-0e37bc45f493",
   "metadata": {},
   "source": [
    "## Testing Validation Functions\n",
    "In many of the functions that follow, the inputs need to be validated, so this section tests whether these validation functions work as intended."
   ]
  },
  {
   "cell_type": "markdown",
   "id": "c3f56e57-0b1a-40c8-9cd1-e0f3e1a7fc46",
   "metadata": {
    "tags": []
   },
   "source": [
    "### validate_stat_id()\n",
    "Source: [validation_utils.py](https://github.com/mesaqlain/e7_items/blob/main/src/validation_utils.py)\n",
    "\n",
    "Function: \n",
    "* Raises a ValueError input is None\n",
    "* Raises a ValueError if input is not str. \n",
    "* Acceptable parameters: 0, 1, 2, 3, 4, 5, 6, 7, 8, 9, 10 (as of now, if more stats are added this could increase later). Parameter can be entered as str or int.\n",
    "\n",
    "Returns: str(stat_id)\n",
    "\n",
    "Test Module: [test_validate_stat_id.py](https://github.com/mesaqlain/e7_items/blob/main/tests/test_validate_stat_id.py)\n",
    "\n",
    "Test Plan:\n",
    "* stat_id = '0', '1', '2', '3', '4', '5', '6', '7', '8', '9'. '10' (exactly as written in STATS file, should work)\n",
    "* stat_id = 0, 1, 2, 3, 4, 5, 6, 7, 8, 9, 10 (ints, should work)\n",
    "* stat_id = -1 (some negative number, should be error)\n",
    "* stat_id = 'Health' (some string that's not a number)\n",
    "* stat_id = 111 (some large number as int that is not in acceptable parameter)\n",
    "* stat_id = '111' (some large number as str that is not in acceptable parameter)\n",
    "* stat_id = None (should raise ValueError)\n",
    "\n",
    "Result: ALL PASSED."
   ]
  },
  {
   "cell_type": "markdown",
   "id": "a03e4715-a2a8-4886-912f-1c6dc96e2aa8",
   "metadata": {},
   "source": [
    "### validate_gear_type()\n",
    "Source: [validation_utils.py](https://github.com/mesaqlain/e7_items/blob/main/src/validation_utils.py)\n",
    "\n",
    "Function: \n",
    "* Returns None if input is None\n",
    "* Raises a ValueError if input is not str. \n",
    "* Acceptable parameters: 'Weapon', 'Helm', 'Armor', 'Necklace', 'Ring', 'Boots'. Parameters are converted to lower case before validating, so lower, upper or mixed case is acceptable.\n",
    "\n",
    "Returns: gear_type.lower()\n",
    "\n",
    "Test Module: [test_validate_gear_type.py](https://github.com/mesaqlain/e7_items/blob/main/tests/test_validate_gear_type.py)\n",
    "\n",
    "Test Plan:\n",
    "* gear_type = 'Weapon', 'Helm', 'Armor', 'Necklace', 'Ring', 'Boots' (exactly as written in TYPES file, should work)\n",
    "* gear_type = 'weapon', 'helm', 'armor', 'necklace', 'ring', 'boots' (all lower case should still work)\n",
    "* gear_type = 'weapOn', 'hElm', 'arMor', 'nEcklacE', 'rINg', 'BOOTS' (mix of lower and upper case, should work)\n",
    "* gear_type = 'Sword', 'mask', 'MAIL', 'Jewelry', 'Accessory', 'Shoes' (random strings, should raise error)\n",
    "* gear_type = 1 (non string parameter, should raise ValueError)\n",
    "* gear_type = None (should return None)\n",
    "\n",
    "Results: ALL PASSED."
   ]
  },
  {
   "cell_type": "markdown",
   "id": "4b39a3b0-74b9-4e69-867b-7b21c035f8b3",
   "metadata": {},
   "source": [
    "### validate_stat_type()\n",
    "Source: [validation_utils.py](https://github.com/mesaqlain/e7_items/blob/main/src/validation_utils.py)\n",
    "\n",
    "Function: \n",
    "* Summary: Validates stat_type input and returns stat_type.lower()\n",
    "* Defaults to 'mainstat' if input is None.\n",
    "* Raises a ValueError if input is not str. \n",
    "* Acceptable parameters: 'mainstat' and 'substat'. Parameters are converted to lower case before validating, so lower, upper or mixed case is acceptable.\n",
    "\n",
    "Returns: stat_type.lower()\n",
    "\n",
    "Test Module: [test_validate_stat_type.py](https://github.com/mesaqlain/e7_items/blob/main/tests/test_validate_stat_type.py)\n",
    "\n",
    "Test Plan:\n",
    "* valid inputs\n",
    "    * stat_type = 'mainstat', 'substat', 'Mainstat', 'Substat', 'MainSTAT', 'SUBstAt'\n",
    "* invalid inputs\n",
    "    * stat_type =  'mainstats', 'substats', 'subs', 'main', 'stats', 1, None\n",
    "\n",
    "Results: ALL PASSED."
   ]
  },
  {
   "cell_type": "markdown",
   "id": "b84846d8-c600-4047-8d7e-430a7e70f849",
   "metadata": {},
   "source": [
    "## Testing Stat Class"
   ]
  },
  {
   "cell_type": "markdown",
   "id": "d06089c5-2103-49cc-af44-7aabd6f8eb1b",
   "metadata": {},
   "source": [
    "### get_stat_by_id()\n",
    "\n",
    "Source: [stats.py](https://github.com/mesaqlain/e7_items/blob/main/src/stats.py)\n",
    "\n",
    "Function: Retrieves data on a STAT based on the given id. It returns a dictionary.\n",
    "\n",
    "Test Module: [test_get_stat_by_id.py](https://github.com/mesaqlain/e7_items/blob/main/tests/test_get_stat_by_id.py)\n",
    "\n",
    "The Stat() class initiates with no data. Running the get_stat_by_id() method should return a dictionary from the STATS dictionary based on the id provided. The function should be able to handle both int and str arguments as long as the number is between 0 and 10. So we need to test the following cases.\n",
    "\n",
    "Valid stat_id should return a dictionary containing stats where id is 0 or 7 (compare to STATS[0] and STATS[7]):\n",
    "* stat_id = 0 \n",
    "* stat_id = '0' \n",
    "* stat_id = 7 \n",
    "* stat_id = '7' \n",
    "\n",
    "Invalid stat_id should raise ValueError:\n",
    "* stat_id = 100\n",
    "* stat_id = '100'\n",
    "* stat_id = -1 (negative case)\n",
    "* stat_id = 1000000 (big number)\n",
    "* stat_id = 'Health' (some random string)\n",
    "* stat_id = None\n",
    "\n",
    "\n",
    "Result: ALL PASSED"
   ]
  },
  {
   "cell_type": "markdown",
   "id": "8286e067-8a85-4d69-8594-6aada93a86c1",
   "metadata": {
    "tags": []
   },
   "source": [
    "### get_random_stat()\n",
    "\n",
    "Function: \n",
    "* Summary: Retrieves data on a random STAT chosen from the list of STATS in the stats.json file. \n",
    "* Validates gear_type input\n",
    "* Initializes an empty list called pool\n",
    "* If gear_type is None, the pool will contain all stats from the stats.json file.\n",
    "* If gear_type is provided, the pool will be limited to the stats allowed according to stat_type (for more information on allowed stats on specific gear type, refer to prep_data_TYPES.py module or check Section 5.2 in the README file.)\n",
    "* Chooses a random id from the pool and runs the get_stat_by_id() function to get that stat.\n",
    "\n",
    "Returns: Stat dic\n",
    "\n",
    "Test Module: [test_get_random_stat.py](https://github.com/mesaqlain/e7_items/blob/main/tests/test_get_random_stat.py)\n",
    "\n",
    "Test Plan:\n",
    "* get_random_stat() with no inputs (this means it should use 'mainstat' as default gear_type = None)\n",
    "    * Check that we do get a dictionary that is one of the stats entries in stats.json PASSED \n",
    "    * Generate 1000 random stats and count how many times each stat was chosen, they should all have been chosen at least once. PASSED\n",
    "\n",
    "* Valid stat_type inputs (while gear_type = None):\n",
    "    * Repeat above test by specifying stat_type = 'mainstat'. PASSED\n",
    "    * Repeat above test by specifying stat_type = 'substat'. PASSED\n",
    "\n",
    "* Valid gear_type inputs (while stat_type = None):\n",
    "    * Repeat above test by specifying gear_type = 'weapon' (we expect to see the stat_id = 0 only (because Weapons can only have that as mainstat)) PASSED\n",
    "    * Repeat above test by specifying gear_type = 'helm' (we expect to see the stat_id = 2 only (because Helms can only have that as mainstat)) PASSED\n",
    "    * Repeat above test by specifying gear_type = 'armor' (we expect to see the stat_id = 4 only (because Armor can only have that as mainstat)) PASSED\n",
    "    * Repeat above test by specifying gear_type = 'necklace' (we expect to see no stat_id = 8,9,10 (because Necklace cannot have those as mainstat), while others should be chosen at least once)  PASSED\n",
    "    * Repeat above test by specifying gear_type = 'ring' (we expect to see no stat_id = 6,7,10 (because Ring cannot have those as mainstat), while others should be chosen at least once) PASSED\n",
    "    * Repeat above test by specifying gear_type = 'boots' (we expect to see no stat_id = 6,7,8,9 (because Boots cannot have those as mainstat), while others should be chosen at least once) PASSED\n",
    "    \n",
    "* Valid gear_type inputs (while stat_type = 'mainstat'):\n",
    "    * Repeat all tests in the previous section by specifying stat_type = 'mainstat', we should see same results ALL PASSED\n",
    "\n",
    "* Valid gear_type inputs (while stat_type = 'substat'):\n",
    "    * Repeat above test by specifying gear_type = 'weapon' (we expect to see no stat_id = 1, 4, 5 (because Weapons cannot have those as substats), while others should be chosen at least once) PASSED\n",
    "    * Repeat above test by specifying gear_type = 'helm' (we expect to see no stat_id = 2 (because Helms cannot have those as substats), while others should be chosen at least once) PASSED\n",
    "    * Repeat above test by specifying gear_type = 'armor' (we expect to see no stat_id = 0, 1, 4 (because Armors cannot have those as substats), while others should be chosen at least once) PASSED\n",
    "    * Repeat above test by specifying gear_type = 'necklace', 'ring', 'boots' (we expect see all stats chosen at least once) PASSED\n",
    "    \n",
    "* Invalid stat_type inputs (while gear_type = None):\n",
    "    * stat_type = 111, '111', 'health' (test integers, random strings, etc) PASSED\n",
    "    \n",
    "* Invalid gear_type inputs (while stat_type = None):\n",
    "    * gear_type = 111, '1', 'Sword' (test integers, random strings, etc) PASSED\n",
    "\n",
    "* Invalid inputs for both:\n",
    "    * gear_type = 111, stat_type = 'Sword' PASSED\n",
    "\n",
    "Test Plan Implementation:\n",
    "* Create an empty set called selected_stat_ids = set()\n",
    "* Generate 1000 random stats and take the 'id' of those stats and add it to selected_stat_ids\n",
    "* Define expected_stat_ids, which contains the allowed stats for a particular gear type (based on stats)\n",
    "* Calculate missing_stat_ids = expected_stat_ids - selected_stat_ids\n",
    "* Calculate extra_stat_ids = selected_stat_ids - expected_stat_ids\n",
    "* If missing_stat_ids set is empty, it means that all the expected stats were selected, and the assertion will pass.\n",
    "* If extra_stat_ids set is empty, it means that no extra stats were selected, and the assertion will pass.\n",
    "\n",
    "Results: ALL PASSED"
   ]
  }
 ],
 "metadata": {
  "kernelspec": {
   "display_name": "Python 3 (ipykernel)",
   "language": "python",
   "name": "python3"
  },
  "language_info": {
   "codemirror_mode": {
    "name": "ipython",
    "version": 3
   },
   "file_extension": ".py",
   "mimetype": "text/x-python",
   "name": "python",
   "nbconvert_exporter": "python",
   "pygments_lexer": "ipython3",
   "version": "3.11.4"
  }
 },
 "nbformat": 4,
 "nbformat_minor": 5
}
