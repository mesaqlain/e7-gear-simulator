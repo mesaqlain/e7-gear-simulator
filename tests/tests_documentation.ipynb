{
 "cells": [
  {
   "cell_type": "markdown",
   "id": "c739f1ee-a73d-46de-a1a4-dbda1738cb5e",
   "metadata": {},
   "source": [
    "# Epic Seven Gear Simulator Testing Documentation\n",
    "This notebook documents the testing process.\n",
    "\n",
    "* The json data files are stored in the `/data` folder. The scripts to prepare these json file are also in the `/data` folder.\n",
    "* The test modules (along with this notebook) are stored in the `/tests` folder.\n",
    "* The class and function modules for the app are stored in the `/src` folder.\n",
    "* `unittest` module is used for running the tests."
   ]
  },
  {
   "cell_type": "markdown",
   "id": "3a68a852-e0c9-42c0-b81c-4eec9349aabc",
   "metadata": {},
   "source": [
    "### Directory Structure Issue\n",
    "\n",
    "Modules in `/tests` folder have to import data and modules from the `/data` or `/src` folders respectively, so we need to add the parent directory to the path.\n",
    "\n",
    "This is solved by importing `set_directory` function from the `set_directory_function` module. As such, every testing module should have the following two lines of code at the top, so that the parent folder can be added to the path."
   ]
  },
  {
   "cell_type": "code",
   "execution_count": null,
   "id": "1b3ed85d-dee6-4009-8a1d-5e2000a6e7a9",
   "metadata": {},
   "outputs": [],
   "source": [
    "from set_directory_function import set_directory\n",
    "set_directory()"
   ]
  },
  {
   "cell_type": "markdown",
   "id": "d3396bd4-5a20-4f8f-9d2f-78a4db61c914",
   "metadata": {},
   "source": [
    "### Running the tests\n",
    "The tests must be run from the root directory as:\n",
    "\n",
    "python tests/test_module_name.py\n",
    "\n",
    "e.g.,\n",
    "python tests/test_get_stat_by_id.py"
   ]
  },
  {
   "cell_type": "markdown",
   "id": "b84846d8-c600-4047-8d7e-430a7e70f849",
   "metadata": {},
   "source": [
    "## Testing Stat Class"
   ]
  },
  {
   "cell_type": "markdown",
   "id": "d06089c5-2103-49cc-af44-7aabd6f8eb1b",
   "metadata": {},
   "source": [
    "### get_stat_by_id()\n",
    "\n",
    "Test Module: [test_get_stat_by_id.py](https://github.com/mesaqlain/e7_items/blob/main/tests/test_get_stat_by_id.py)\n",
    "\n",
    "The Stat() class initiates with no data. Running the get_stat_by_id() method should return a dictionary from the STATS dictionary based on the id provided. The function should be able to handle both int and str arguments as long as the number is between 0 and 10. So we need to test the following cases.\n",
    "\n",
    "Valid stat_id should return a dictionary containing stats where id is 0 or 7 (compare to STATS[0] and STATS[7]):\n",
    "* stat_id = 0 \n",
    "* stat_id = '0' \n",
    "* stat_id = 7 \n",
    "* stat_id = '7' \n",
    "\n",
    "Invalid stat_id should return None:\n",
    "* stat_id = 100\n",
    "* stat_id = '100'\n",
    "* stat_id = -1 (negative case)\n",
    "* stat_id = 1000000 (big number)\n",
    "\n",
    "Result: All tests passed"
   ]
  },
  {
   "cell_type": "code",
   "execution_count": null,
   "id": "b382a205-a88d-4993-80db-5388ed930e10",
   "metadata": {},
   "outputs": [],
   "source": []
  }
 ],
 "metadata": {
  "kernelspec": {
   "display_name": "Python 3 (ipykernel)",
   "language": "python",
   "name": "python3"
  },
  "language_info": {
   "codemirror_mode": {
    "name": "ipython",
    "version": 3
   },
   "file_extension": ".py",
   "mimetype": "text/x-python",
   "name": "python",
   "nbconvert_exporter": "python",
   "pygments_lexer": "ipython3",
   "version": "3.11.4"
  }
 },
 "nbformat": 4,
 "nbformat_minor": 5
}
